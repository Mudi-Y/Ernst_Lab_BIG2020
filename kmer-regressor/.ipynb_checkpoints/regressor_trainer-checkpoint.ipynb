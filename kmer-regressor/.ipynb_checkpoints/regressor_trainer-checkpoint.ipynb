{
 "cells": [
  {
   "cell_type": "code",
   "execution_count": null,
   "metadata": {},
   "outputs": [],
   "source": [
    "import matplotlib.pyplot as plt\n",
    "import numpy as np\n",
    "import pandas as pd\n",
    "import sklearn.linear_model\n",
    "from sklearn.model_selection import train_test_split"
   ]
  },
  {
   "cell_type": "code",
   "execution_count": null,
   "metadata": {},
   "outputs": [],
   "source": [
    "#kmer_size used to name trained model and to name processed data\n",
    "kmer_size = '6mer'\n",
    "Data_path = \"/u/home/m/mudiyang/scratch/Kmer_Regressor_Data\""
   ]
  },
  {
   "cell_type": "code",
   "execution_count": null,
   "metadata": {},
   "outputs": [],
   "source": [
    "#split the data and prepare for training. \n",
    "#read in only the labels and encodings \n",
    "all_data = pd.read_pickle('%s/Processed_Data/%s.pkl'%(Data_path, kmer_size))"
   ]
  },
  {
   "cell_type": "code",
   "execution_count": null,
   "metadata": {},
   "outputs": [],
   "source": [
    "all_data"
   ]
  },
  {
   "cell_type": "code",
   "execution_count": null,
   "metadata": {},
   "outputs": [],
   "source": [
    "#function for splitting data into train and test sets\n",
    "def split_train_test(data, test_ratio):\n",
    "    shuffled_indices = np.random.permutation(len(data))\n",
    "    test_set_size = int(len(data) * test_ratio)\n",
    "    test_indices = shuffled_indices[:test_set_size]\n",
    "    train_indices = shuffled_indices[test_set_size:]\n",
    "    return data.iloc[train_indices], data.iloc[test_indices]\n",
    "\n",
    "train_set, test_set = split_train_test(all_data, 0.2)\n",
    "print(train_set.shape, test_set.shape)\n",
    "\n",
    "train_set.to_pickle('%s/Processed_Data/Train/%s_train.pkl'%(Data_path, kmer_size))\n",
    "test_set.to_pickle('%s/Processed_Data/Test/%s_test.pkl'%(Data_path, kmer_size))\n",
    "\n",
    "del all_data\n",
    "# X_train, X_test, y_train, y_test = train_test_split(\n",
    "#     all_data['encoding'], all_data['label'], test_size=0.2, random_state=42)"
   ]
  },
  {
   "cell_type": "code",
   "execution_count": null,
   "metadata": {},
   "outputs": [],
   "source": [
    "train_set['encoding']"
   ]
  },
  {
   "cell_type": "code",
   "execution_count": null,
   "metadata": {},
   "outputs": [],
   "source": [
    "train_set['label']"
   ]
  },
  {
   "cell_type": "code",
   "execution_count": null,
   "metadata": {},
   "outputs": [],
   "source": [
    "#format the training data\n",
    "labels = train_set['label'].values\n",
    "encodings = train_set['encoding'].values.tolist()\n",
    "encodings = np.asarray(encodings)\n",
    "\n",
    "labels = np.reshape(labels,(389710,))\n",
    "\n",
    "\n",
    "#format the testing data\n",
    "test_labels = test_set['label'].values\n",
    "test_encodings = test_set['encoding'].values.tolist()\n",
    "test_encodings = np.asarray(test_encodings)\n",
    "\n",
    "test_labels = np.reshape(test_labels,(97427,))\n",
    "\n",
    "del train_set, test_set"
   ]
  },
  {
   "cell_type": "code",
   "execution_count": null,
   "metadata": {},
   "outputs": [],
   "source": [
    "#train a linear regressor on the training dataset. \n",
    "from sklearn.linear_model import LinearRegression\n",
    "\n",
    "k_mer_regressor = LinearRegression()\n",
    "k_mer_regressor.fit(encodings, labels)"
   ]
  },
  {
   "cell_type": "code",
   "execution_count": null,
   "metadata": {},
   "outputs": [],
   "source": [
    "encodings_subset = encodings[:5]\n",
    "labels_subset = labels[:5]\n",
    "\n",
    "print(\"Predictions are: \", k_mer_regressor.predict(encodings_subset))\n",
    "print(\"Correct Labels:  \", list(labels_subset))"
   ]
  },
  {
   "cell_type": "code",
   "execution_count": null,
   "metadata": {},
   "outputs": [],
   "source": [
    "#check mean_squared_error\n",
    "from sklearn.metrics import mean_squared_error\n",
    "test_predictions = k_mer_regressor.predict(test_encodings)\n",
    "test_mse = mean_squared_error(test_predictions, test_labels)\n",
    "test_rmse = np.sqrt(test_mse)\n",
    "\n",
    "train_predictions = k_mer_regressor.predict(encodings)\n",
    "train_mse = mean_squared_error(train_predictions, labels)\n",
    "train_rmse = np.sqrt(train_mse)\n",
    "\n",
    "print(\"Root Mean Squared error on training set is: \", train_rmse)\n",
    "print(\"Root Mean Squared error on test set is:     \", test_rmse)"
   ]
  },
  {
   "cell_type": "code",
   "execution_count": null,
   "metadata": {},
   "outputs": [],
   "source": [
    "#visualize the results\n",
    "caption = \"correlation pearson r= %s\"%(pd.Series(test_predictions).corr(pd.Series(test_labels)))\n",
    "\n",
    "plt.scatter(\n",
    "    x=test_predictions,\n",
    "    y=test_labels,\n",
    "    edgecolors='w'\n",
    ")\n",
    "\n",
    "plt.title(\"%s Regressor\"%kmer_size)\n",
    "plt.xlabel(\"test_predictions \\n\\n %s\"%caption)\n",
    "plt.ylabel(\"test_labels\")\n",
    "\n",
    "plt.show()"
   ]
  },
  {
   "cell_type": "code",
   "execution_count": null,
   "metadata": {},
   "outputs": [],
   "source": []
  }
 ],
 "metadata": {
  "kernelspec": {
   "display_name": "Python [conda env:root] *",
   "language": "python",
   "name": "conda-root-py"
  },
  "language_info": {
   "codemirror_mode": {
    "name": "ipython",
    "version": 3
   },
   "file_extension": ".py",
   "mimetype": "text/x-python",
   "name": "python",
   "nbconvert_exporter": "python",
   "pygments_lexer": "ipython3",
   "version": "3.7.6"
  }
 },
 "nbformat": 4,
 "nbformat_minor": 4
}
