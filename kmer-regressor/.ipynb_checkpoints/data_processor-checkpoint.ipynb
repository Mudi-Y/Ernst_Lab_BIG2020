{
 "cells": [
  {
   "cell_type": "code",
   "execution_count": null,
   "metadata": {},
   "outputs": [],
   "source": [
    "import matplotlib.pyplot as plt\n",
    "import numpy as np\n",
    "import pandas as pd\n",
    "import sklearn.linear_model"
   ]
  },
  {
   "cell_type": "code",
   "execution_count": null,
   "metadata": {},
   "outputs": [],
   "source": [
    "#kmer_size used to name trained model and to name processed data\n",
    "kmer_size = '4mer'"
   ]
  },
  {
   "cell_type": "code",
   "execution_count": null,
   "metadata": {},
   "outputs": [],
   "source": [
    "#load in the data - files are merged along the rep axis, and across the design axis\n",
    "#ie sort -m HepG2_ScaleUpDesign1_minP_mRNA_Rep1.counts HepG2_ScaleUpDesign2_minP_mRNA_Rep2.counts > HepG2_minP_Rep2.counts\n",
    "\n",
    "Data_path = \"/u/home/m/mudiyang/scratch/Kmer_Regressor_Data\"\n",
    "\n",
    "sequences_path = \"%s/Sequences/all.sequences\"%Data_path\n",
    "rna_path       = \"%s/RNA/HepG2_minP_Rep1.counts\"%Data_path\n",
    "dna_path       = \"%s/DNA/minP_DNA.counts\"%Data_path\n",
    "kmer_path      = \"%s/%s.txt\"%(Data_path, kmer_size)\n",
    "\n",
    "sequences = pd.read_csv(sequences_path, header = None, index_col = 0, sep = '\\t')\n",
    "sequences.columns = ['sequence']\n",
    "rna       = pd.read_csv(rna_path, header = None, index_col = 0, sep = '\\t')\n",
    "dna       = pd.read_csv(dna_path, header = None, index_col = 0, sep = '\\t')"
   ]
  },
  {
   "cell_type": "code",
   "execution_count": null,
   "metadata": {},
   "outputs": [],
   "source": [
    "#normalize data\n",
    "#add pesudo count to smooth data\n",
    "rna = rna+1\n",
    "dna = dna+1\n",
    "\n",
    "\n",
    "#get sums of DNA and RNA counts\n",
    "dna_sum = dna.sum(axis = 0)\n",
    "rna_sum = rna.sum(axis = 0)\n",
    "\n",
    "\n",
    "#generate normalized counts. I am including the strange multiply dna_sum by two step, \n",
    "#but we can comment that out if we diecide that does not make sense. \n",
    "rna_counts = rna/rna_sum\n",
    "\n",
    "dna_sum = dna_sum*2\n",
    "dna_counts = dna/dna_sum"
   ]
  },
  {
   "cell_type": "code",
   "execution_count": null,
   "metadata": {},
   "outputs": [],
   "source": [
    "#generate scores for each tile. These will be used as the labels for the regressor\n",
    "tile_scores = np.log2(rna_counts/dna_counts)\n",
    "\n",
    "\n",
    "#add these scores as a 'label' column to the sequences dataframe\n",
    "sequences['label'] = tile_scores\n",
    "\n",
    "#clean heapspace memory\n",
    "del rna, dna, rna_sum, dna_sum, rna_counts, dna_counts, tile_scores"
   ]
  },
  {
   "cell_type": "code",
   "execution_count": null,
   "metadata": {},
   "outputs": [],
   "source": [
    "#generate kmer encoding for each tile\n",
    "#first, load up the kmers\n",
    "kmers = pd.read_csv(kmer_path, header = None, index_col = None, sep = ',')\n",
    "kmers = np.array(kmers).flatten()\n",
    "\n",
    "\n",
    "#loop though each element of sequences['sequence'] and count isntance of each kmer substring\n",
    "array = []\n",
    "\n",
    "for i in range(0,len(sequences['sequence']),1):\n",
    "    if (i %10000 == 0) or (i == 487136):\n",
    "        print(i)\n",
    "    sequence = sequences['sequence'][i]\n",
    "    array1 = map(sequence.count, kmers)\n",
    "    array1= list(array1)\n",
    "    array.append(array1)\n",
    "    \n",
    "sequences = sequences.drop(columns=['sequence'])\n",
    "print(\"sequence column dropped\")\n",
    "\n",
    "#turn the resulting array into a numpy object and add it to the sequences dataframe\n",
    "array = np.asarray(array)\n",
    "print(\"encodings converted to numpy array\")\n",
    "sequences['encoding'] = array.tolist()\n",
    "print(\"encodings added to sequences dataframe\")\n",
    "\n",
    "del array"
   ]
  },
  {
   "cell_type": "code",
   "execution_count": null,
   "metadata": {},
   "outputs": [],
   "source": [
    "#pickle the data needed to train regressor with regrossor_trainer\n",
    "sequences.to_pickle('%s/Processed_Data/%s.pkl'%(Data_path, kmer_size))\n",
    "del sequences"
   ]
  }
 ],
 "metadata": {
  "kernelspec": {
   "display_name": "Python [conda env:root] *",
   "language": "python",
   "name": "conda-root-py"
  },
  "language_info": {
   "codemirror_mode": {
    "name": "ipython",
    "version": 3
   },
   "file_extension": ".py",
   "mimetype": "text/x-python",
   "name": "python",
   "nbconvert_exporter": "python",
   "pygments_lexer": "ipython3",
   "version": "3.7.6"
  }
 },
 "nbformat": 4,
 "nbformat_minor": 4
}
