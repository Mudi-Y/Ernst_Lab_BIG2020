{
 "cells": [
  {
   "cell_type": "code",
   "execution_count": null,
   "metadata": {},
   "outputs": [],
   "source": [
    "library(\"MPRAnalyze\")\n",
    "library(tidyverse)\n",
    "data(\"ChrEpi\")"
   ]
  },
  {
   "cell_type": "code",
   "execution_count": null,
   "metadata": {},
   "outputs": [],
   "source": [
    "Data_path = \"/u/home/m/mudiyang/scratch/MPRAnalyze/\"\n",
    "rna_path       = sprintf(\"%s/RNA_df.csv\", Data_path)\n",
    "dna_path       = sprintf(\"%s/DNA_df.csv\", Data_path)"
   ]
  },
  {
   "cell_type": "code",
   "execution_count": null,
   "metadata": {},
   "outputs": [],
   "source": [
    "rna_raw <- read.csv(rna_path, sep = '\\t', header = TRUE)\n",
    "rna <- rna_raw[,-1]\n",
    "rownames(rna) <- rna_raw[,1]\n",
    "rna = as.matrix(rna, rownames.force = 1)\n",
    "\n",
    "dna_raw <- read.csv(dna_path, sep = '\\t', header = TRUE)\n",
    "dna <- dna_raw[,-1]\n",
    "rownames(dna) <- dna_raw[,1]\n",
    "dna = as.matrix(dna, rownames.force = 1)"
   ]
  },
  {
   "cell_type": "code",
   "execution_count": null,
   "metadata": {},
   "outputs": [],
   "source": [
    "col_names = list('Hep_Sv40_1', 'Hep_Sv40_2', 'Hep_min_1', 'Hep_min_2', 'K_Sv40_1', \n",
    "                 'K_Sv40_2', 'K_min_1', 'K_min_2')\n",
    "col_names <- data.frame(col_names)\n",
    "col_names = t(col_names)\n",
    "colAnnot <- data.frame(col_names)\n",
    "\n",
    "\n",
    "\n",
    "batch_vals = c(1,2,1,2,1,2,1,2)\n",
    "condition_vals = c('WT','WT','WT','WT','WT','WT','WT','WT')\n",
    "barcode_vals = c(1,1,1,1,1,1,1,1)\n",
    "\n",
    "colAnnot$batch = batch_vals\n",
    "colAnnot$condition = condition_vals\n",
    "colAnnot$barcode = barcode_vals\n",
    "\n",
    "colAnnot = subset(colAnnot, select = -c(col_names) )"
   ]
  },
  {
   "cell_type": "code",
   "execution_count": null,
   "metadata": {},
   "outputs": [],
   "source": [
    "obj <- MpraObject(dnaCounts = dna, rnaCounts = rna, dnaAnnot = colAnnot, rnaAnnot = colAnnot )"
   ]
  },
  {
   "cell_type": "code",
   "execution_count": null,
   "metadata": {},
   "outputs": [],
   "source": [
    "## If the library factors are different for the DNA and RNA data, separate \n",
    "## estimation of these factors is needed. We can also change the estimation \n",
    "## method (Upper quartile by default)\n",
    "# obj <- estimateDepthFactors(obj, lib.factor = c(\"batch\", \"condition\"),\n",
    "#                             which.lib = \"dna\", \n",
    "#                             depth.estimator = \"uq\")\n",
    "# obj <- estimateDepthFactors(obj, lib.factor = c(\"condition\"),\n",
    "#                             which.lib = \"rna\", \n",
    "#                             depth.estimator = \"uq\")\n",
    "\n",
    "## In this case, the factors are the same - each combination of batch and \n",
    "## condition is a single library, and we'll use the default estimation\n",
    "obj <- estimateDepthFactors(obj, lib.factor = c(\"batch\", \"condition\"),\n",
    "                            which.lib = \"both\")\n"
   ]
  },
  {
   "cell_type": "code",
   "execution_count": null,
   "metadata": {},
   "outputs": [],
   "source": [
    "# barcode"
   ]
  },
  {
   "cell_type": "code",
   "execution_count": null,
   "metadata": {},
   "outputs": [],
   "source": [
    "obj <- analyzeQuantification(obj = obj, \n",
    "                              dnaDesign = ~ barcode + batch + condition,\n",
    "                              rnaDesign = ~ condition)"
   ]
  },
  {
   "cell_type": "code",
   "execution_count": null,
   "metadata": {},
   "outputs": [],
   "source": [
    "##extract alpha values from the fitted model\n",
    "alpha <- getAlpha(obj, by.factor = \"condition\")\n",
    "\n",
    "##visualize the estimates\n",
    "boxplot(alpha)"
   ]
  }
 ],
 "metadata": {
  "kernelspec": {
   "display_name": "R [conda env:r_env]",
   "language": "R",
   "name": "conda-env-r_env-r"
  },
  "language_info": {
   "codemirror_mode": "r",
   "file_extension": ".r",
   "mimetype": "text/x-r-source",
   "name": "R",
   "pygments_lexer": "r",
   "version": "3.6.1"
  }
 },
 "nbformat": 4,
 "nbformat_minor": 4
}
