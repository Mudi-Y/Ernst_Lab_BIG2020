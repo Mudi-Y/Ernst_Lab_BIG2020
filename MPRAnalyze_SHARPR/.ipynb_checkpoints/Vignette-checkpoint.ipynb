{
 "cells": [
  {
   "cell_type": "code",
   "execution_count": null,
   "metadata": {
    "scrolled": false
   },
   "outputs": [],
   "source": [
    "library(MPRAnalyze)\n",
    "data(\"ChrEpi\")\n",
    "summary(ce.colAnnot)"
   ]
  },
  {
   "cell_type": "code",
   "execution_count": null,
   "metadata": {},
   "outputs": [],
   "source": [
    "obj <- MpraObject(dnaCounts = ce.dnaCounts, rnaCounts = ce.rnaCounts, \n",
    "                  dnaAnnot = ce.colAnnot, rnaAnnot = ce.colAnnot)\n"
   ]
  },
  {
   "cell_type": "code",
   "execution_count": null,
   "metadata": {},
   "outputs": [],
   "source": [
    "## If the library factors are different for the DNA and RNA data, separate \n",
    "## estimation of these factors is needed. We can also change the estimation \n",
    "## method (Upper quartile by default)\n",
    "obj <- estimateDepthFactors(obj, lib.factor = c(\"batch\", \"condition\"),\n",
    "                            which.lib = \"dna\", \n",
    "                            depth.estimator = \"uq\")\n",
    "obj <- estimateDepthFactors(obj, lib.factor = c(\"condition\"),\n",
    "                            which.lib = \"rna\", \n",
    "                            depth.estimator = \"uq\")\n",
    "\n",
    "## In this case, the factors are the same - each combination of batch and \n",
    "## condition is a single library, and we'll use the default estimation\n",
    "obj <- estimateDepthFactors(obj, lib.factor = c(\"batch\", \"condition\"),\n",
    "                            which.lib = \"both\")\n"
   ]
  },
  {
   "cell_type": "code",
   "execution_count": null,
   "metadata": {},
   "outputs": [],
   "source": [
    "barcode"
   ]
  },
  {
   "cell_type": "code",
   "execution_count": null,
   "metadata": {},
   "outputs": [],
   "source": [
    "obj <- analyzeQuantification(obj = obj, \n",
    "                              dnaDesign = ~ barcode + batch + condition,\n",
    "                              rnaDesign = ~ condition)"
   ]
  },
  {
   "cell_type": "code",
   "execution_count": null,
   "metadata": {},
   "outputs": [],
   "source": [
    "##extract alpha values from the fitted model\n",
    "alpha <- getAlpha(obj, by.factor = \"condition\")\n",
    "\n",
    "##visualize the estimates\n",
    "boxplot(alpha)"
   ]
  },
  {
   "cell_type": "code",
   "execution_count": null,
   "metadata": {},
   "outputs": [],
   "source": [
    "class(ce.rnaCounts)"
   ]
  }
 ],
 "metadata": {
  "kernelspec": {
   "display_name": "R [conda env:r_env]",
   "language": "R",
   "name": "conda-env-r_env-r"
  },
  "language_info": {
   "codemirror_mode": "r",
   "file_extension": ".r",
   "mimetype": "text/x-r-source",
   "name": "R",
   "pygments_lexer": "r",
   "version": "3.6.1"
  },
  "widgets": {
   "application/vnd.jupyter.widget-state+json": {
    "state": {},
    "version_major": 2,
    "version_minor": 0
   }
  }
 },
 "nbformat": 4,
 "nbformat_minor": 4
}
