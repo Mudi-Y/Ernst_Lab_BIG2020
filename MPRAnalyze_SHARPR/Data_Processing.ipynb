{
 "cells": [
  {
   "cell_type": "code",
   "execution_count": null,
   "metadata": {},
   "outputs": [],
   "source": [
    "import numpy as np\n",
    "import pandas as pd\n",
    "from functools import reduce"
   ]
  },
  {
   "cell_type": "code",
   "execution_count": null,
   "metadata": {},
   "outputs": [],
   "source": [
    "#set set up data paths for reading\n",
    "Data_path = \"/u/home/m/mudiyang/scratch/Scaleup_counts_sequences\"\n",
    "\n",
    "name = ['ID', 'count']\n",
    "\n",
    "#read in all data for Hepg2\n",
    "Hep_D1_SV40_R1 = pd.read_csv(\"%s/HEPG2/HepG2_ScaleUpDesign1_SV40P_mRNA_Rep1.counts\"%Data_path, index_col = 0, header = 0, sep = '\\t', names = name)\n",
    "Hep_D1_SV40_R2 = pd.read_csv(\"%s/HEPG2/HepG2_ScaleUpDesign1_SV40P_mRNA_Rep2.counts\"%Data_path, index_col = 0, header = 0, sep = '\\t', names = name)\n",
    "Hep_D1_minP_R1 = pd.read_csv(\"%s/HEPG2/HepG2_ScaleUpDesign1_minP_mRNA_Rep1.counts\"%Data_path, index_col = 0, header = 0, sep = '\\t', names = name)\n",
    "Hep_D1_minP_R2 = pd.read_csv(\"%s/HEPG2/HepG2_ScaleUpDesign1_minP_mRNA_Rep2.counts\"%Data_path, index_col = 0, header = 0, sep = '\\t', names = name)\n",
    "Hep_D2_SV40_R1 = pd.read_csv(\"%s/HEPG2/HepG2_ScaleUpDesign2_SV40P_mRNA_Rep1.counts\"%Data_path, index_col = 0, header = 0, sep = '\\t', names = name)\n",
    "Hep_D2_SV40_R2 = pd.read_csv(\"%s/HEPG2/HepG2_ScaleUpDesign2_SV40P_mRNA_Rep2.counts\"%Data_path, index_col = 0, header = 0, sep = '\\t', names = name)\n",
    "Hep_D2_minP_R1 = pd.read_csv(\"%s/HEPG2/HepG2_ScaleUpDesign2_minP_mRNA_Rep1.counts\"%Data_path, index_col = 0, header = 0, sep = '\\t', names = name)\n",
    "Hep_D2_minP_R2 = pd.read_csv(\"%s/HEPG2/HepG2_ScaleUpDesign2_minP_mRNA_Rep2.counts\"%Data_path, index_col = 0, header = 0, sep = '\\t', names = name)\n",
    "\n",
    "#read in all data for rep K562\n",
    "K_D1_SV40_R1 = pd.read_csv(\"%s/K562/K562_ScaleUpDesign1_SV40P_mRNA_Rep1.counts\"%Data_path, index_col = 0, header = 0, sep = '\\t', names = name)\n",
    "K_D1_SV40_R2 = pd.read_csv(\"%s/K562/K562_ScaleUpDesign1_SV40P_mRNA_Rep2.counts\"%Data_path, index_col = 0, header = 0, sep = '\\t', names = name)\n",
    "K_D1_minP_R1 = pd.read_csv(\"%s/K562/K562_ScaleUpDesign1_minP_mRNA_Rep1.counts\"%Data_path, index_col = 0, header = 0, sep = '\\t', names = name)\n",
    "K_D1_minP_R2 = pd.read_csv(\"%s/K562/K562_ScaleUpDesign1_minP_mRNA_Rep2.counts\"%Data_path, index_col = 0, header = 0, sep = '\\t', names = name)\n",
    "K_D2_SV40_R1 = pd.read_csv(\"%s/K562/K562_ScaleUpDesign2_SV40P_mRNA_Rep1.counts\"%Data_path, index_col = 0, header = 0, sep = '\\t', names = name)\n",
    "K_D2_SV40_R2 = pd.read_csv(\"%s/K562/K562_ScaleUpDesign2_SV40P_mRNA_Rep2.counts\"%Data_path, index_col = 0, header = 0, sep = '\\t', names = name)\n",
    "K_D2_minP_R1 = pd.read_csv(\"%s/K562/K562_ScaleUpDesign2_minP_mRNA_Rep1.counts\"%Data_path, index_col = 0, header = 0, sep = '\\t', names = name)\n",
    "K_D2_minP_R2 = pd.read_csv(\"%s/K562/K562_ScaleUpDesign2_minP_mRNA_Rep2.counts\"%Data_path, index_col = 0, header = 0, sep = '\\t', names = name)\n",
    "\n",
    "\n",
    "#read in all data for DNA\n",
    "DNA_1_minp = pd.read_csv(\"%s/DNACOUNTS/ScaleUpDesign1_minP_Plasmid.counts\"%Data_path, index_col = 0, header = 0, sep = '\\t', names = name) \n",
    "DNA_2_minp = pd.read_csv(\"%s/DNACOUNTS/ScaleUpDesign2_minP_Plasmid.counts\"%Data_path, index_col = 0, header = 0, sep = '\\t', names = name)\n",
    "DNA_1_SV40 = pd.read_csv(\"%s/DNACOUNTS/ScaleUpDesign1_SV40P_Plasmid.counts\"%Data_path, index_col = 0, header = 0, sep = '\\t', names = name)\n",
    "DNA_2_SV40 = pd.read_csv(\"%s/DNACOUNTS/ScaleUpDesign2_SV40P_Plasmid.counts\"%Data_path, index_col = 0, header = 0, sep = '\\t', names = name)"
   ]
  },
  {
   "cell_type": "code",
   "execution_count": null,
   "metadata": {},
   "outputs": [],
   "source": [
    "#combine and stack DNA data\n",
    "DNA1 = [DNA_1_minp, DNA_1_SV40]\n",
    "DNA2 = [DNA_2_minp, DNA_2_SV40]\n",
    "\n",
    "DNA_1_df = reduce(lambda left,right: pd.merge(left,right,on='ID'), DNA1)\n",
    "DNA_2_df = reduce(lambda left,right: pd.merge(left,right,on='ID'), DNA2)\n",
    "\n",
    "DNA_df = pd.concat([DNA_1_df, DNA_2_df], axis = 0)\n",
    "DNA_df.columns = ['minp', 'sv40']\n",
    "\n",
    "col_names = ['Hep_Sv40_1','Hep_Sv40_2','Hep_min_1','Hep_min_2','K_Sv40_1','K_Sv40_2','K_min_1','K_min_2']\n",
    "\n",
    "count = 0\n",
    "for i in col_names:\n",
    "    if count in [0,1,4,5]:\n",
    "        DNA_df[i] = DNA_df['sv40']\n",
    "    else:\n",
    "        DNA_df[i] = DNA_df['minp']\n",
    "    count+=1\n",
    "    \n",
    "DNA_df = DNA_df.drop(columns=['minp', 'sv40'])"
   ]
  },
  {
   "cell_type": "code",
   "execution_count": null,
   "metadata": {},
   "outputs": [],
   "source": [
    "#combine and stack RNA data\n",
    "RNA1 = [Hep_D1_SV40_R1,Hep_D1_SV40_R2,Hep_D1_minP_R1,Hep_D1_minP_R2,K_D1_SV40_R1,K_D1_SV40_R2,K_D1_minP_R1,K_D1_minP_R2]\n",
    "RNA2 = [Hep_D2_SV40_R1,Hep_D2_SV40_R2,Hep_D2_minP_R1,Hep_D2_minP_R2,K_D2_SV40_R1,K_D2_SV40_R2,K_D2_minP_R1,K_D2_minP_R2]\n",
    "\n",
    "RNA_1_df = reduce(lambda left,right: pd.merge(left,right,on='ID'), RNA1)\n",
    "RNA_2_df = reduce(lambda left,right: pd.merge(left,right,on='ID'), RNA2)\n",
    "\n",
    "RNA_df = pd.concat([RNA_1_df, RNA_2_df], axis = 0)\n",
    "RNA_df.columns = ['Hep_Sv40_1','Hep_Sv40_2','Hep_min_1','Hep_min_2','K_Sv40_1','K_Sv40_2','K_min_1','K_min_2']"
   ]
  },
  {
   "cell_type": "code",
   "execution_count": null,
   "metadata": {},
   "outputs": [],
   "source": [
    "#export RNA and DNA dataframes to CSV files\n",
    "RNA_df.to_csv(\"/u/home/m/mudiyang/scratch/MPRAnalyze/RNA_df.csv\", sep = '\\t', header = True, index = True)\n",
    "DNA_df.to_csv(\"/u/home/m/mudiyang/scratch/MPRAnalyze/DNA_df.csv\", sep = '\\t', header = True, index = True)"
   ]
  }
 ],
 "metadata": {
  "kernelspec": {
   "display_name": "Python [conda env:root] *",
   "language": "python",
   "name": "conda-root-py"
  },
  "language_info": {
   "codemirror_mode": {
    "name": "ipython",
    "version": 3
   },
   "file_extension": ".py",
   "mimetype": "text/x-python",
   "name": "python",
   "nbconvert_exporter": "python",
   "pygments_lexer": "ipython3",
   "version": "3.7.6"
  }
 },
 "nbformat": 4,
 "nbformat_minor": 4
}
