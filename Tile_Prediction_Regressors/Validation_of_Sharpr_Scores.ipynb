{
 "cells": [
  {
   "cell_type": "code",
   "execution_count": null,
   "metadata": {},
   "outputs": [],
   "source": [
    "import numpy as np\n",
    "import pandas as pd\n",
    "import matplotlib.pyplot as plt"
   ]
  },
  {
   "cell_type": "code",
   "execution_count": null,
   "metadata": {},
   "outputs": [],
   "source": [
    "SHARPR_Scores = pd.read_csv('/u/home/m/mudiyang/scratch/SHARPR_Scores/HEPG2_SHARPR-MPRA_scores/basepredictions_HEPG2_ScaleUpDesign1and2_SV40P.txt',\n",
    "                            sep= '\\t', index_col = 0)\n",
    "SHARPR_Scores.columns = range(0,295)"
   ]
  },
  {
   "cell_type": "code",
   "execution_count": null,
   "metadata": {},
   "outputs": [],
   "source": [
    "scores = SHARPR_Scores.loc['H1hesc_12_213_chr1_111020515']\n",
    "\n",
    "plt.plot(scores)\n",
    "plt.plot([np.average(scores)]*295)"
   ]
  },
  {
   "cell_type": "code",
   "execution_count": null,
   "metadata": {},
   "outputs": [],
   "source": [
    "scores = SHARPR_Scores.loc['H1hesc_12_16_chr17_53373495']\n",
    "plt.plot(scores)\n",
    "plt.plot([np.average(scores)]*295)"
   ]
  }
 ],
 "metadata": {
  "kernelspec": {
   "display_name": "Python [conda env:root] *",
   "language": "python",
   "name": "conda-root-py"
  },
  "language_info": {
   "codemirror_mode": {
    "name": "ipython",
    "version": 3
   },
   "file_extension": ".py",
   "mimetype": "text/x-python",
   "name": "python",
   "nbconvert_exporter": "python",
   "pygments_lexer": "ipython3",
   "version": "3.7.6"
  }
 },
 "nbformat": 4,
 "nbformat_minor": 4
}
