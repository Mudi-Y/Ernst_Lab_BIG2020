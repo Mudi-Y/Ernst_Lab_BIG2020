{
 "cells": [
  {
   "cell_type": "code",
   "execution_count": null,
   "metadata": {},
   "outputs": [],
   "source": [
    "import sklearn\n",
    "import pandas as pd\n",
    "import numpy as np\n",
    "import matplotlib.pyplot as plt\n",
    "from sklearn.model_selection import train_test_split"
   ]
  },
  {
   "cell_type": "code",
   "execution_count": null,
   "metadata": {},
   "outputs": [],
   "source": [
    "from sklearn.externals import joblib\n",
    "linear = joblib_model = joblib.load('/u/home/m/mudiyang/scratch/Tile_Prediction_Regressors/Linear_t15.pkl')\n",
    "RF = joblib_model = joblib.load('/u/home/m/mudiyang/scratch/Tile_Prediction_Regressors/RF_t15.pkl')\n",
    "MLPR = joblib_model = joblib.load('/u/home/m/mudiyang/scratch/Tile_Prediction_Regressors/DNN_t15.pkl')"
   ]
  },
  {
   "cell_type": "code",
   "execution_count": null,
   "metadata": {},
   "outputs": [],
   "source": [
    "#see the data processor file to create the tile_scores file and chose what cell type, promoter, rep, \n",
    "#and dropped tile.\n",
    "\n",
    "#read in testing data\n",
    "X_test = pd.read_pickle('/u/home/m/mudiyang/scratch/Tile_Prediction_Regressors/Data/X_test.pkl')\n",
    "y_test = pd.read_pickle('/u/home/m/mudiyang/scratch/Tile_Prediction_Regressors/Data/y_test.pkl')\n",
    "\n",
    "#convert train and test sets to arrays\n",
    "X_test = X_test.values\n",
    "y_test = y_test.values.flatten()"
   ]
  },
  {
   "cell_type": "code",
   "execution_count": null,
   "metadata": {},
   "outputs": [],
   "source": [
    "#run all regressors on data\n",
    "y = y_test\n",
    "\n",
    "linear_y = linear.predict(X_test)\n",
    "linear_y = linear_y.flatten()\n",
    "\n",
    "RF_y = RF.predict(X_test)\n",
    "RF_y = RF_y.flatten()\n",
    "\n",
    "MLPR_y = MLPR.predict(X_test) \n",
    "MLPR_y = MLPR_y.flatten()"
   ]
  },
  {
   "cell_type": "code",
   "execution_count": null,
   "metadata": {},
   "outputs": [],
   "source": [
    "#get statistics about each model\n",
    "from sklearn.metrics import mean_squared_error\n",
    "\n",
    "linear_rms = mean_squared_error(y, linear_y)\n",
    "linear_corre = pd.Series(y).corr(pd.Series(linear_y))\n",
    "\n",
    "RF_rms = mean_squared_error(y, RF_y)\n",
    "RF_corre = pd.Series(y).corr(pd.Series(RF_y))\n",
    "\n",
    "MLPR_rms = mean_squared_error(y, MLPR_y)\n",
    "MLPR_corre = pd.Series(y).corr(pd.Series(MLPR_y))"
   ]
  },
  {
   "cell_type": "code",
   "execution_count": null,
   "metadata": {},
   "outputs": [],
   "source": [
    "#plot in bar grahp\n",
    "labels = ['Linear','MLPR','RF']\n",
    "men_means = [linear_rms, MLPR_rms, RF_rms]\n",
    "women_means = [linear_corre, MLPR_corre, RF_corre]\n",
    "\n",
    "x = np.arange(len(labels))  # the label locations\n",
    "width = 0.35  # the width of the bars\n",
    "\n",
    "fig, ax = plt.subplots()\n",
    "rects1 = ax.bar(x - width/2, men_means, width, label='Root Mean Squared Error')\n",
    "rects2 = ax.bar(x + width/2, women_means, width, label='Correlation')\n",
    "\n",
    "# Add some text for labels, title and custom x-axis tick labels, etc.\n",
    "ax.set_title('RMS and Correlation by Regressor')\n",
    "ax.set_xticks(x)\n",
    "ax.set_xticklabels(labels)\n",
    "ax.legend()\n",
    "\n",
    "\n",
    "# def autolabel(rects):\n",
    "#     \"\"\"Attach a text label above each bar in *rects*, displaying its height.\"\"\"\n",
    "#     for rect in rects:\n",
    "#         height = rect.get_height()\n",
    "#         ax.annotate('{}'.format(height),\n",
    "#                     xy=(rect.get_x() + rect.get_width() / 2, height),\n",
    "#                     xytext=(0, 3),  # 3 points vertical offset\n",
    "#                     textcoords=\"offset points\",\n",
    "#                     ha='center', va='bottom')\n",
    "\n",
    "\n",
    "autolabel(rects1)\n",
    "autolabel(rects2)\n",
    "\n",
    "fig.tight_layout()\n",
    "\n",
    "plt.show()"
   ]
  }
 ],
 "metadata": {
  "kernelspec": {
   "display_name": "Python [conda env:root] *",
   "language": "python",
   "name": "conda-root-py"
  },
  "language_info": {
   "codemirror_mode": {
    "name": "ipython",
    "version": 3
   },
   "file_extension": ".py",
   "mimetype": "text/x-python",
   "name": "python",
   "nbconvert_exporter": "python",
   "pygments_lexer": "ipython3",
   "version": "3.7.6"
  }
 },
 "nbformat": 4,
 "nbformat_minor": 4
}
