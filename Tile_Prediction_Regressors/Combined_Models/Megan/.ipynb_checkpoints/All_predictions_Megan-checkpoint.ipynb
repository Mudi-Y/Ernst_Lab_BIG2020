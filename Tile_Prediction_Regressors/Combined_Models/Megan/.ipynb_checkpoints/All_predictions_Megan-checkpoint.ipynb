{
 "cells": [
  {
   "cell_type": "code",
   "execution_count": 24,
   "metadata": {},
   "outputs": [],
   "source": [
    "import matplotlib.pyplot as plt\n",
    "import numpy as np\n",
    "import pandas as pd\n",
    "import sklearn.linear_model\n",
    "from sklearn.externals import joblib\n",
    "import scipy\n",
    "from scipy.stats.stats import pearsonr "
   ]
  },
  {
   "cell_type": "code",
   "execution_count": 25,
   "metadata": {},
   "outputs": [],
   "source": [
    "models = ['Linear','RF']\n",
    "\n",
    "tiles = ['t1','t2','t3','t4','t5','t6','t7','t8','t9','t10','t11','t12','t13','t14','t15','t16','t17','t18',\n",
    "         't19','t20','t21','t22','t23','t24','t25','t26','t27','t28','t29','t30','t31']\n",
    "\n",
    "#load in the base set of all data\n",
    "tile_counts = pd.read_pickle('/u/home/m/mudiyang/scratch/Scaleup_counts_sequences/tile_scores.pkl')\n",
    "\n",
    "base_input = pd.read_pickle('/u/home/m/mudiyang/scratch/Tile_Prediction_Regressors/Combined/data/base.pkl')\n",
    "inference_input = pd.read_pickle('/u/home/m/mudiyang/scratch/Tile_Prediction_Regressors/Combined/data/inference.pkl')\n",
    "\n",
    "base_input_all = base_input.dropna()\n",
    "inference_input_all = inference_input.dropna()"
   ]
  },
  {
   "cell_type": "code",
   "execution_count": 26,
   "metadata": {},
   "outputs": [],
   "source": [
    "Linear_predictions = pd.DataFrame(index = base_input_all.index)\n",
    "Linear_inference_predictions = pd.DataFrame(index = inference_input_all.index)\n",
    "RF_predictions = pd.DataFrame(index = base_input_all.index)\n",
    "RF_inference_predictions = pd.DataFrame(index = inference_input_all.index)"
   ]
  },
  {
   "cell_type": "code",
   "execution_count": 27,
   "metadata": {},
   "outputs": [],
   "source": [
    "for model in models:\n",
    "    base_predictions = pd.DataFrame(index = base_input_all.index)\n",
    "    inference_predictions = pd.DataFrame(index = inference_input_all.index)\n",
    "    \n",
    "    for tile in tiles:\n",
    "        base_model = joblib.load('/u/home/m/mudiyang/scratch/Tile_Prediction_Regressors/Combined/%s/%s_%s.pkl'\n",
    "                                 %(model,model,tile))\n",
    "        inference_model = joblib.load('/u/home/m/mudiyang/scratch/Tile_Prediction_Regressors/Combined/%s_all_inference/%s_all_inference_%s.pkl'\n",
    "                                 %(model,model,tile))\n",
    "        \n",
    "        \n",
    "        tiles_in_base = [tile]\n",
    "        for i in range(1,32):\n",
    "            if 't%s'%i != tile:\n",
    "                tiles_in_base.append('actual_t%s'%i)\n",
    "        \n",
    "        base_input = base_input_all[tiles_in_base]\n",
    "        inference_input = inference_input_all.drop(columns = [tile])\n",
    "        \n",
    "        base_output = base_model.predict(base_input)\n",
    "        inference_output = inference_model.predict(inference_input)\n",
    "        \n",
    "        base_predictions[tile] = base_output\n",
    "        inference_predictions[tile] = inference_output\n",
    "        \n",
    "    if model == 'RF':\n",
    "        RF_predictions = base_predictions\n",
    "        RF_inference_predictions = inference_predictions\n",
    "    else:\n",
    "        Linear_predictions = base_predictions\n",
    "        Linear_inference_predictions = inference_predictions\n",
    "        "
   ]
  },
  {
   "cell_type": "code",
   "execution_count": 28,
   "metadata": {},
   "outputs": [
    {
     "name": "stdout",
     "output_type": "stream",
     "text": [
      "True\n",
      "True\n"
     ]
    }
   ],
   "source": [
    "#check if all the regions are the same\n",
    "array = [all(Linear_predictions.index == Linear_inference_predictions.index),\n",
    "all(RF_predictions.index == RF_inference_predictions.index),\n",
    "all(Linear_inference_predictions.index == RF_predictions.index)]\n",
    "print(all(array))\n",
    "\n",
    "#check if all prediction files have no Nan values\n",
    "array = [\n",
    "    Linear_predictions.equals(Linear_predictions.dropna()),\n",
    "    Linear_inference_predictions.equals(Linear_inference_predictions.dropna()),\n",
    "    RF_predictions.equals(RF_predictions.dropna()),\n",
    "    RF_inference_predictions.equals(RF_inference_predictions.dropna())\n",
    "]\n",
    "print(all(array))"
   ]
  },
  {
   "cell_type": "code",
   "execution_count": 34,
   "metadata": {},
   "outputs": [],
   "source": [
    "#get the correct coords file based on the regions for which we have predicted values\n",
    "#read in coord file\n",
    "coord_df = pd.read_csv('/u/home/m/mudiyang/scratch/Scaleup_counts_sequences/coords_all.txt', \n",
    "                           sep='\\t', index_col=0, header = None)\n",
    "coord_df = coord_df.reindex(Linear_predictions.index)\n",
    "\n",
    "coord_df.to_pickle('/u/home/m/mudiyang/scratch/Scaleup_counts_sequences/coords_SHARPR.pkl')"
   ]
  },
  {
   "cell_type": "code",
   "execution_count": 30,
   "metadata": {},
   "outputs": [],
   "source": [
    "Linear_predictions.to_csv('/u/home/m/mudiyang/scratch/Tile_Prediction_Regressors/Combined/data/predictions/linear.tsv',\n",
    "                              sep = '\\t', header = False, na_rep = \"\")\n",
    "Linear_inference_predictions.to_csv('/u/home/m/mudiyang/scratch/Tile_Prediction_Regressors/Combined/data/predictions/linear_inference.tsv',\n",
    "                              sep = '\\t', header = False, na_rep = \"\")\n",
    "RF_predictions.to_csv('/u/home/m/mudiyang/scratch/Tile_Prediction_Regressors/Combined/data/predictions/RF.tsv',\n",
    "                              sep = '\\t', header = False, na_rep = \"\")\n",
    "RF_inference_predictions.to_csv('/u/home/m/mudiyang/scratch/Tile_Prediction_Regressors/Combined/data/predictions/RF_inference.tsv',\n",
    "                              sep = '\\t', header = False, na_rep = \"\")"
   ]
  },
  {
   "cell_type": "code",
   "execution_count": 31,
   "metadata": {},
   "outputs": [],
   "source": [
    "#figure out which regions are missing\n",
    "all_regions = tile_counts.index\n",
    "non_null = base_input.index\n",
    "\n",
    "missing = all_regions.difference(non_null, sort=False)"
   ]
  }
 ],
 "metadata": {
  "kernelspec": {
   "display_name": "Python [conda env:root] *",
   "language": "python",
   "name": "conda-root-py"
  },
  "language_info": {
   "codemirror_mode": {
    "name": "ipython",
    "version": 3
   },
   "file_extension": ".py",
   "mimetype": "text/x-python",
   "name": "python",
   "nbconvert_exporter": "python",
   "pygments_lexer": "ipython3",
   "version": "3.7.6"
  }
 },
 "nbformat": 4,
 "nbformat_minor": 4
}
