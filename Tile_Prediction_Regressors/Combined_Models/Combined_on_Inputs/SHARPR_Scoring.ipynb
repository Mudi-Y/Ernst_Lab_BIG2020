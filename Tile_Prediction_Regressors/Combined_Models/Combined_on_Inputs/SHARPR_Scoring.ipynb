{
 "cells": [
  {
   "cell_type": "code",
   "execution_count": null,
   "metadata": {},
   "outputs": [],
   "source": [
    "import matplotlib.pyplot as plt\n",
    "import numpy as np\n",
    "import pandas as pd\n",
    "import tempfile\n",
    "import os"
   ]
  },
  {
   "cell_type": "code",
   "execution_count": null,
   "metadata": {},
   "outputs": [],
   "source": [
    "########## Tev's Code ############\n",
    "\n",
    "# you need to download and extract the SHARPR package for this to work\n",
    "# https://ernstlab.biolchem.ucla.edu/SHARPR/SHARPR.zip\n",
    "# read the manual if something doesn't work\n",
    "\n",
    "def compute_sharpr_from_tiles(tile_fn, varprior_1=1, varprior_2=None):\n",
    "    \"\"\" Computes SHARPR scores from tile matrix.\n",
    "\n",
    "        Format of tile_fn is the same as SHARPR tile matrix format, tab-separated,\n",
    "        rows are regions and columns are tiles. \n",
    "    \"\"\"\n",
    "    tilelength = 145\n",
    "    stepsize = 5\n",
    "    numtilepos = 31\n",
    "\n",
    "    if varprior_2 is None:\n",
    "        varprior_2 = varprior_1\n",
    "    \n",
    "    with tempfile.TemporaryDirectory() as tmpdir:\n",
    "        inputtablefile = tile_fn\n",
    "        inferenceoutputfile_1 = f'{tmpdir}/inference_out.varprior_{varprior_1}.tsv'\n",
    "        \n",
    "        cmd_ = f\"java -jar /u/home/m/mudiyang/Scripts/SHARPR/SHARPR.jar Infer {inputtablefile} {inferenceoutputfile_1} {varprior_1} {tilelength} {stepsize} {numtilepos}\"\n",
    "        os.system(cmd_)\n",
    "        print(cmd_)\n",
    "        \n",
    "        inferenceoutputfile_2 = f'{tmpdir}/inference_out.varprior_{varprior_2}.tsv'\n",
    "        \n",
    "        cmd_ = f\"java -jar /u/home/m/mudiyang/Scripts/SHARPR/SHARPR.jar Infer {inputtablefile} {inferenceoutputfile_2} {varprior_2} {tilelength} {stepsize} {numtilepos}\"\n",
    "        os.system(cmd_)\n",
    "        print(cmd_)\n",
    "        \n",
    "        fileset1 = f\"{inferenceoutputfile_1}\"\n",
    "        fileset2 = f\"{inferenceoutputfile_2}\"\n",
    "        \n",
    "        combineoutputfile = f'{tmpdir}/combineoutput.tsv'\n",
    "        \n",
    "        cmd_ = f\"java -jar /u/home/m/mudiyang/Scripts/SHARPR/SHARPR.jar Combine -c {fileset2} {fileset1} {combineoutputfile}\"\n",
    "        os.system(cmd_)\n",
    "        print(cmd_)\n",
    "        \n",
    "        interpolateinputfile = combineoutputfile\n",
    "        interpolateoutputfile = f'{tmpdir}/interpolate_out.tsv'\n",
    "        \n",
    "        cmd_ = f\"java -jar /u/home/m/mudiyang/Scripts/SHARPR/SHARPR.jar Interpolate {interpolateinputfile} {interpolateoutputfile} {stepsize}\"\n",
    "        os.system(cmd_)\n",
    "        print(cmd_)\n",
    "        \n",
    "        df = pd.read_csv(interpolateoutputfile, sep='\\t', header=None, index_col=0)\n",
    "        df.columns = df.columns.map(int)\n",
    "        df.index = df.index.rename('region_id')\n",
    "        \n",
    "        \n",
    "        return df\n"
   ]
  },
  {
   "cell_type": "code",
   "execution_count": null,
   "metadata": {},
   "outputs": [],
   "source": [
    "for i in ['linear','linear_inference','RF','RF_inference']:\n",
    "    path  = '/u/home/m/mudiyang/scratch/Tile_Prediction_Regressors/Combined/data/predictions/%s.tsv'%i\n",
    "    \n",
    "    varprior_vals = [0.1,1,10,50]\n",
    "    for val in varprior_vals:\n",
    "        SHARPR_Scores = compute_sharpr_from_tiles(path,val)\n",
    "        print(SHARPR_Scores.loc['H1hesc_10_0_chr9_108475935'])\n",
    "        save_path = '/u/home/m/mudiyang/scratch/Tile_Prediction_Regressors/Combined/data/SHARPR_Scores/%s_%s.pkl'%(i, val)\n",
    "        SHARPR_Scores.to_pickle(save_path)"
   ]
  }
 ],
 "metadata": {
  "kernelspec": {
   "display_name": "Python [conda env:root] *",
   "language": "python",
   "name": "conda-root-py"
  },
  "language_info": {
   "codemirror_mode": {
    "name": "ipython",
    "version": 3
   },
   "file_extension": ".py",
   "mimetype": "text/x-python",
   "name": "python",
   "nbconvert_exporter": "python",
   "pygments_lexer": "ipython3",
   "version": "3.7.6"
  }
 },
 "nbformat": 4,
 "nbformat_minor": 4
}
