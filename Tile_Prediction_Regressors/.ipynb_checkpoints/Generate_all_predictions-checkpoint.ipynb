{
 "cells": [
  {
   "cell_type": "code",
   "execution_count": null,
   "metadata": {},
   "outputs": [],
   "source": [
    "import matplotlib.pyplot as plt\n",
    "import numpy as np\n",
    "import pandas as pd\n",
    "import sklearn.linear_model\n",
    "from sklearn.externals import joblib\n",
    "import scipy\n",
    "from scipy.stats.stats import pearsonr "
   ]
  },
  {
   "cell_type": "code",
   "execution_count": null,
   "metadata": {},
   "outputs": [],
   "source": [
    "#list of all different tiles\n",
    "tiles = ['t1','t2','t3','t4','t5','t6','t7','t8','t9','t10','t11','t12','t13','t14','t15','t16','t17','t18',\n",
    "         't19','t20','t21','t22','t23','t24','t25','t26','t27','t28','t29','t30','t31']\n",
    "\n",
    "#load in the base set of all data\n",
    "tile_counts = pd.read_pickle('/u/home/m/mudiyang/scratch/Scaleup_counts_sequences/tile_scores.pkl')\n",
    "\n",
    "\n",
    "missing = tile_counts[tile_counts.isnull().any(axis=1)]\n",
    "\n",
    "#K562_9_95_chr1_59594155 has values: K562_9_95_chr1_59594155\t0.276589\t2.762016\t0.655101\n",
    "#set all that to NaN\n",
    "missing = pd.DataFrame(columns=missing.columns, index=missing.index)\n",
    "missing.to_pickle('/u/home/m/mudiyang/scratch/Tile_Prediction_Regressors/Data/missing_tiles.pkl')\n",
    "\n",
    "tile_counts = tile_counts.dropna()\n"
   ]
  },
  {
   "cell_type": "code",
   "execution_count": null,
   "metadata": {},
   "outputs": [],
   "source": [
    "# # #generate predictions only on test set. Remove this if necessary\n",
    "# chr_8 = np.genfromtxt('/u/home/m/mudiyang/scratch/Scaleup_counts_sequences/DNACOUNTS/chr8.txt', \n",
    "#                         dtype=str, delimiter ='\\n')\n",
    "# chr_18 = np.genfromtxt('/u/home/m/mudiyang/scratch/Scaleup_counts_sequences/DNACOUNTS/chr18.txt', \n",
    "#                         dtype=str, delimiter ='\\n')\n",
    "# drop_set = np.concatenate((chr_8, chr_18), axis=None)\n",
    "\n",
    "# tile_counts = tile_counts[tile_counts.index.isin(drop_set)]"
   ]
  },
  {
   "cell_type": "code",
   "execution_count": null,
   "metadata": {},
   "outputs": [],
   "source": [
    "tile_counts"
   ]
  },
  {
   "cell_type": "code",
   "execution_count": null,
   "metadata": {},
   "outputs": [],
   "source": [
    "#initialize dataframe for all predicted values\n",
    "all_predictions = pd.DataFrame(index = tile_counts.index)\n",
    "\n",
    "#for each tile, set the input set to be tile_counts without that tile. load the tile specific regressor\n",
    "#and predict on values to generate a column of the eventual output. \n",
    "for i in tiles:\n",
    "    input_data = tile_counts.drop(columns = ['%s'%i])\n",
    "    \n",
    "    input_data = input_data.values\n",
    "    \n",
    "    tile_predictor = joblib.load('/u/home/m/mudiyang/scratch/Tile_Prediction_Regressors/Linear_%s.pkl'%i)\n",
    "    \n",
    "    output = tile_predictor.predict(input_data)\n",
    "    \n",
    "    all_predictions[i] = output\n",
    "\n",
    "#multiply predicted values by constant factor to increase apmlitude of variations\n",
    "all_predictions = all_predictions.apply(lambda x: x*3)"
   ]
  },
  {
   "cell_type": "code",
   "execution_count": null,
   "metadata": {},
   "outputs": [],
   "source": [
    "all_predictions = all_predictions.reindex(tile_counts.index)\n",
    "all_predictions.to_pickle('/u/home/m/mudiyang/scratch/Tile_Prediction_Regressors/Data/all_predictions_linear.pkl')\n",
    "tile_counts.to_pickle('/u/home/m/mudiyang/scratch/Tile_Prediction_Regressors/Data/tile_counts.pkl')"
   ]
  },
  {
   "cell_type": "code",
   "execution_count": null,
   "metadata": {},
   "outputs": [],
   "source": [
    "#generate heatmap\n",
    "start = 0\n",
    "matrix = all_predictions.sort_values(by = ['t15'])\n",
    "matrix = matrix.iloc[start:start+31:1]\n",
    "\n",
    "\n",
    "# sorting schemes, by mean or by tile value\n",
    "matrix = matrix.sort_values(by = ['t15'])\n",
    "\n",
    "plt.figure(figsize = (10,10))\n",
    "plt.imshow(matrix, cmap = 'plasma')\n",
    "plt.title(\"Ccores of predicted Tiles\")\n",
    "\n",
    "plt.xlabel(\"Tile\")\n",
    "plt.xticks(np.arange(31),matrix.columns)\n",
    "\n",
    "plt.ylabel(\"Region\")\n",
    "plt.yticks(np.arange(31),matrix.index)\n",
    "plt.show()"
   ]
  },
  {
   "cell_type": "code",
   "execution_count": null,
   "metadata": {},
   "outputs": [],
   "source": [
    "#generate heatmap\n",
    "start = 0\n",
    "matrix = tile_counts.sort_values(by = ['t15'])\n",
    "matrix = matrix.iloc[start:start+31:1]\n",
    "\n",
    "\n",
    "# sorting schemes, by mean or by tile value\n",
    "matrix = matrix.sort_values(by = ['t15'])\n",
    "\n",
    "plt.figure(figsize = (10,10))\n",
    "plt.imshow(matrix, cmap = 'plasma')\n",
    "plt.title(\"Counts of actual Tiles\")\n",
    "\n",
    "plt.xlabel(\"Tile\")\n",
    "plt.xticks(np.arange(31),matrix.columns)\n",
    "\n",
    "plt.ylabel(\"Region\")\n",
    "plt.yticks(np.arange(31),matrix.index)\n",
    "plt.show()"
   ]
  },
  {
   "cell_type": "code",
   "execution_count": null,
   "metadata": {},
   "outputs": [],
   "source": [
    "correlation_tile = []\n",
    "for i in tiles:\n",
    "    correlation_tile.append(all_predictions[i].corr(tile_counts[i]))\n",
    "\n",
    "plt.plot(range(1,32,1), correlation_tile)\n",
    "plt.xlabel('tile')\n",
    "plt.ylabel('correlation')\n",
    "plt.title('correlation by tile')\n",
    "plt.show()"
   ]
  },
  {
   "cell_type": "code",
   "execution_count": null,
   "metadata": {},
   "outputs": [],
   "source": [
    "correlation_region = all_predictions.corrwith(tile_counts, axis =0)\n",
    "\n",
    "plt.hist(correlation_region)\n",
    "plt.xlabel('correlation')\n",
    "plt.ylabel('number')\n",
    "plt.title('correlation by tile')\n",
    "plt.show()"
   ]
  },
  {
   "cell_type": "code",
   "execution_count": null,
   "metadata": {},
   "outputs": [],
   "source": [
    "correlation_region = all_predictions.corrwith(tile_counts, axis =1)\n",
    "\n",
    "plt.hist(correlation_region)\n",
    "plt.xlabel('correlation')\n",
    "plt.ylabel('number')\n",
    "plt.title('correlation by region')\n",
    "plt.show()"
   ]
  },
  {
   "cell_type": "code",
   "execution_count": null,
   "metadata": {},
   "outputs": [],
   "source": [
    "# import scipy\n",
    "# from scipy.stats.stats import pearsonr \n",
    "# indices = []\n",
    "# for i in range(0,1500, 50):\n",
    "#     plt.plot(range(1,32,1), all_predictions.iloc[i], label = 'predicted region')\n",
    "#     plt.plot(range(1,32,1), tile_counts.iloc[i], label = 'experimental region')\n",
    "#     plt.plot(range(1,32,1), [np.average(tile_counts.iloc[i])]*31, label = 'mean experimental region')\n",
    "#     correlation, p = pearsonr(all_predictions.iloc[i], tile_counts.iloc[i]) \n",
    "#     plt.xlabel('tile number \\n\\n corr = %s'%(correlation))\n",
    "#     plt.ylabel('tile value')\n",
    "#     plt.title(all_predictions.index[i])\n",
    "#     plt.legend()\n",
    "#     plt.show()\n",
    "#     indices.append(all_predictions.index[i])"
   ]
  },
  {
   "cell_type": "code",
   "execution_count": null,
   "metadata": {},
   "outputs": [],
   "source": [
    "pd.Series(all_predictions.unstack()).corr(pd.Series(tile_counts.unstack()))"
   ]
  },
  {
   "cell_type": "code",
   "execution_count": null,
   "metadata": {},
   "outputs": [],
   "source": [
    "for i in tiles:\n",
    "    plt.scatter(all_predictions[i], tile_counts[i], edgecolor = 'w')\n",
    "    plt.xlabel('predicted %s value'%i)\n",
    "    plt.ylabel('experimental %s value'%i)\n",
    "    plt.show()\n",
    "    correlation, p = pearsonr(all_predictions[i], tile_counts[i])\n",
    "    print(correlation)"
   ]
  },
  {
   "cell_type": "code",
   "execution_count": null,
   "metadata": {},
   "outputs": [],
   "source": [
    "tile_counts"
   ]
  }
 ],
 "metadata": {
  "kernelspec": {
   "display_name": "Python [conda env:root] *",
   "language": "python",
   "name": "conda-root-py"
  },
  "language_info": {
   "codemirror_mode": {
    "name": "ipython",
    "version": 3
   },
   "file_extension": ".py",
   "mimetype": "text/x-python",
   "name": "python",
   "nbconvert_exporter": "python",
   "pygments_lexer": "ipython3",
   "version": "3.7.6"
  }
 },
 "nbformat": 4,
 "nbformat_minor": 4
}
