{
 "cells": [
  {
   "cell_type": "code",
   "execution_count": null,
   "metadata": {},
   "outputs": [],
   "source": [
    "#finds the tiles that are missing from the data. \n",
    "import numpy as np\n",
    "import pandas as pd"
   ]
  },
  {
   "cell_type": "code",
   "execution_count": null,
   "metadata": {},
   "outputs": [],
   "source": [
    "regions = np.genfromtxt('/u/home/m/mudiyang/scratch/Scaleup_counts_sequences/DNACOUNTS/cords.txt', \n",
    "                        dtype=str, delimiter ='\\n')\n",
    "\n",
    "regions = list(regions)\n",
    "\n",
    "tiles = np.genfromtxt('/u/home/m/mudiyang/scratch/Scaleup_counts_sequences/DNACOUNTS/tiles.txt', \n",
    "                        dtype=str, delimiter ='\\n')"
   ]
  },
  {
   "cell_type": "code",
   "execution_count": null,
   "metadata": {},
   "outputs": [],
   "source": [
    "for i in range(0,len(regions),1):\n",
    "    regions[i] = regions[i].replace(\"_chr\", \"_%s_chr\")"
   ]
  },
  {
   "cell_type": "code",
   "execution_count": null,
   "metadata": {},
   "outputs": [],
   "source": [
    "tile_nums = np.array(range(0,31,1))\n",
    "stuff = []\n",
    "for i in range(0, len(regions),1):\n",
    "    for j in tile_nums:\n",
    "        stuff.append(regions[i]%j)"
   ]
  },
  {
   "cell_type": "code",
   "execution_count": null,
   "metadata": {},
   "outputs": [],
   "source": [
    "missing = []"
   ]
  },
  {
   "cell_type": "code",
   "execution_count": null,
   "metadata": {},
   "outputs": [],
   "source": [
    "for i in stuff:\n",
    "    if i not in tiles:\n",
    "        row = []\n",
    "        row.append(i)\n",
    "        row = row + ['NaN']*8\n",
    "        missing.append(row)"
   ]
  },
  {
   "cell_type": "code",
   "execution_count": null,
   "metadata": {},
   "outputs": [],
   "source": [
    "missing = pd.DataFrame(missing, \n",
    "                       columns = ['ID','Hep_Sv40_1','Hep_Sv40_2','Hep_min_1','Hep_min_2',\n",
    "                                  'K_Sv40_1','K_Sv40_2','K_min_1','K_min_2'], dtype = np.float64)"
   ]
  },
  {
   "cell_type": "code",
   "execution_count": null,
   "metadata": {},
   "outputs": [],
   "source": [
    "missing = missing.set_index('ID')"
   ]
  },
  {
   "cell_type": "code",
   "execution_count": null,
   "metadata": {},
   "outputs": [],
   "source": [
    "missing.to_pickle('/u/home/m/mudiyang/scratch/Scaleup_counts_sequences/DNACOUNTS/missing.pkl')"
   ]
  }
 ],
 "metadata": {
  "kernelspec": {
   "display_name": "Python [conda env:root] *",
   "language": "python",
   "name": "conda-root-py"
  },
  "language_info": {
   "codemirror_mode": {
    "name": "ipython",
    "version": 3
   },
   "file_extension": ".py",
   "mimetype": "text/x-python",
   "name": "python",
   "nbconvert_exporter": "python",
   "pygments_lexer": "ipython3",
   "version": "3.7.6"
  }
 },
 "nbformat": 4,
 "nbformat_minor": 4
}
