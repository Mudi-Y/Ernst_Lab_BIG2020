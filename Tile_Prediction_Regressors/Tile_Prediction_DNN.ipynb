{
 "cells": [
  {
   "cell_type": "code",
   "execution_count": null,
   "metadata": {},
   "outputs": [],
   "source": [
    "import matplotlib.pyplot as plt\n",
    "import numpy as np\n",
    "import pandas as pd\n",
    "import sklearn.neural_network\n",
    "from sklearn.model_selection import train_test_split"
   ]
  },
  {
   "cell_type": "code",
   "execution_count": null,
   "metadata": {},
   "outputs": [],
   "source": [
    "#see the data processor file to create the tile_scores file and chose what cell type, promoter, rep, \n",
    "#and dropped tile.\n",
    "\n",
    "#read in training and testing data\n",
    "model = 'DNN'\n",
    "tile = 't15'\n",
    "\n",
    "X_train = pd.read_pickle('/u/home/m/mudiyang/scratch/Tile_Prediction_Regressors/Data/X_train.pkl')\n",
    "X_test = pd.read_pickle('/u/home/m/mudiyang/scratch/Tile_Prediction_Regressors/Data/X_test.pkl')\n",
    "y_train = pd.read_pickle('/u/home/m/mudiyang/scratch/Tile_Prediction_Regressors/Data/y_train.pkl')\n",
    "y_test = pd.read_pickle('/u/home/m/mudiyang/scratch/Tile_Prediction_Regressors/Data/y_test.pkl')\n",
    "\n",
    "#convert train and test sets to arrays\n",
    "X_train = X_train.values\n",
    "X_test = X_test.values\n",
    "y_train = y_train.values.flatten()\n",
    "y_test = y_test.values.flatten()"
   ]
  },
  {
   "cell_type": "code",
   "execution_count": null,
   "metadata": {},
   "outputs": [],
   "source": [
    "#Cross Validation search for best paramaters for MLPRegressor\n",
    "# from sklearn.model_selection import GridSearchCV\n",
    "# from sklearn.neural_network import MLPRegressor\n",
    "\n",
    "# tile_predictor = MLPRegressor()\n",
    "# #'hidden_layer_sizes':[(30,15,5),(30,20,10),(30,15,10,5)],\n",
    "# parameters = [{'hidden_layer_sizes':[(5)], 'activation': ['identity', 'logistic', 'tanh', 'relu','softmax']}]\n",
    "\n",
    "# grid_search = GridSearchCV(tile_predictor, parameters, cv = 3, scoring = 'neg_mean_squared_error',\n",
    "#                           return_train_score=True)\n",
    "\n",
    "# grid_search.fit(X_train, y_train)\n",
    "# grid_search.best_params_"
   ]
  },
  {
   "cell_type": "code",
   "execution_count": null,
   "metadata": {},
   "outputs": [],
   "source": [
    "#train random forrest regressor\n",
    "from sklearn.neural_network import MLPRegressor\n",
    "\n",
    "tile_predictor = MLPRegressor(activation='identity', hidden_layer_sizes = (5))\n",
    "tile_predictor.fit(X_train, y_train)"
   ]
  },
  {
   "cell_type": "code",
   "execution_count": null,
   "metadata": {},
   "outputs": [],
   "source": [
    "input_subset = X_train[:5]\n",
    "labels_subset = y_train[:5]\n",
    "\n",
    "print(\"Predictions are: \", tile_predictor.predict(input_subset))\n",
    "print(\"Correct Labels:  \", list(labels_subset))"
   ]
  },
  {
   "cell_type": "code",
   "execution_count": null,
   "metadata": {},
   "outputs": [],
   "source": [
    "#check mean_squared_error\n",
    "from sklearn.metrics import mean_squared_error\n",
    "test_predictions = tile_predictor.predict(X_test)\n",
    "test_mse = mean_squared_error(test_predictions, y_test)\n",
    "test_rmse = np.sqrt(test_mse)\n",
    "\n",
    "train_predictions = tile_predictor.predict(X_train)\n",
    "train_mse = mean_squared_error(train_predictions, y_train)\n",
    "train_rmse = np.sqrt(train_mse)\n",
    "\n",
    "print(\"Root Mean Squared error on training set is: \", train_rmse)\n",
    "print(\"Root Mean Squared error on test set is:     \", test_rmse)"
   ]
  },
  {
   "cell_type": "code",
   "execution_count": null,
   "metadata": {},
   "outputs": [],
   "source": [
    "#flatten the arrays used for plotting\n",
    "test_predictions = test_predictions.flatten()\n",
    "y_test = y_test.flatten()\n",
    "\n",
    "RMS_train = \"Root Mean Squared error on training set is: %s\"%(train_rmse)\n",
    "RMS_test = \"Root Mean Squared error on test set is: %s\"%(test_rmse)\n",
    "\n",
    "#visualize the results\n",
    "caption = \"correlation pearson r= %s\"%(pd.Series(test_predictions).corr(pd.Series(y_test)))\n",
    "\n",
    "plt.scatter(\n",
    "    x=test_predictions,\n",
    "    y=y_test,\n",
    "    edgecolors='w'\n",
    ")\n",
    "\n",
    "plt.title(\"MLPRegressor Tile Predictor, Hep, SV40\")\n",
    "plt.xlabel(\"test_predictions \\n\\n %s \\n\\n %s \\n %s\"%(caption, RMS_train, RMS_test))\n",
    "plt.ylabel(\"test_labels\")\n",
    "\n",
    "plt.show()"
   ]
  },
  {
   "cell_type": "code",
   "execution_count": null,
   "metadata": {},
   "outputs": [],
   "source": [
    "from sklearn.externals import joblib\n",
    "path = '/u/home/m/mudiyang/scratch/Tile_Prediction_Regressors/%s_%s.pkl'%(model,tile)\n",
    "joblib.dump(tile_predictor, path)"
   ]
  }
 ],
 "metadata": {
  "kernelspec": {
   "display_name": "Python [conda env:root] *",
   "language": "python",
   "name": "conda-root-py"
  },
  "language_info": {
   "codemirror_mode": {
    "name": "ipython",
    "version": 3
   },
   "file_extension": ".py",
   "mimetype": "text/x-python",
   "name": "python",
   "nbconvert_exporter": "python",
   "pygments_lexer": "ipython3",
   "version": "3.7.6"
  }
 },
 "nbformat": 4,
 "nbformat_minor": 4
}
