{
 "cells": [
  {
   "cell_type": "code",
   "execution_count": null,
   "metadata": {},
   "outputs": [],
   "source": [
    "import sklearn\n",
    "import pandas as pd\n",
    "import numpy as np\n",
    "import matplotlib.pyplot as plt\n",
    "from sklearn.externals import joblib\n",
    "from sklearn.metrics import mean_squared_error"
   ]
  },
  {
   "cell_type": "code",
   "execution_count": null,
   "metadata": {},
   "outputs": [],
   "source": [
    "#matrices for rmse and correlation\n",
    "models = ['Linear','Rf','MLPR']\n",
    "\n",
    "rmse_df = pd.DataFrame(index = models)\n",
    "corr_df = pd.DataFrame(index = models)"
   ]
  },
  {
   "cell_type": "code",
   "execution_count": null,
   "metadata": {},
   "outputs": [],
   "source": [
    "#for each chromosome, load test data, load models. Run models, save correlation and rmse to appropriate dataframes\n",
    "chromosomes = list(range(1,23,1)) + ['X']\n",
    "chromosomes = np.array(chromosomes)\n",
    "chromosomes = chromosomes.reshape(23,)\n",
    "\n",
    "\n",
    "for i in chromosomes:\n",
    "    #read in test data\n",
    "    X_test = pd.read_pickle('/u/home/m/mudiyang/scratch/Tile_Prediction_Regressors/Data/CV_t15_rotate_chrs/X_test_chr%s.pkl'%i)\n",
    "    y_test = pd.read_pickle('/u/home/m/mudiyang/scratch/Tile_Prediction_Regressors/Data/CV_t15_rotate_chrs/y_test_chr%s.pkl'%i)\n",
    "    \n",
    "    X_test = X_test.values\n",
    "    y_test = y_test.values.flatten()\n",
    "    \n",
    "    \n",
    "    #load each regressor\n",
    "    linear = joblib.load('/u/home/m/mudiyang/scratch/Tile_Prediction_Regressors/Data/CV_t15_rotate_chrs/regressors/linear_%s.pkl'%i)\n",
    "    RF = joblib.load('/u/home/m/mudiyang/scratch/Tile_Prediction_Regressors/Data/CV_t15_rotate_chrs/regressors/RF_%s.pkl'%i)\n",
    "    MLPR = joblib.load('/u/home/m/mudiyang/scratch/Tile_Prediction_Regressors/Data/CV_t15_rotate_chrs/regressors/MLPR_%s.pkl'%i)\n",
    "    \n",
    "    \n",
    "    #run each regressor\n",
    "    #run all regressors on data\n",
    "    y = y_test\n",
    "\n",
    "    linear_y = linear.predict(X_test)\n",
    "    linear_y = linear_y.flatten()\n",
    "\n",
    "    RF_y = RF.predict(X_test)\n",
    "    RF_y = RF_y.flatten()\n",
    "\n",
    "    MLPR_y = MLPR.predict(X_test) \n",
    "    MLPR_y = MLPR_y.flatten()\n",
    "    \n",
    "    \n",
    "    #evaluate each model\n",
    "    linear_rms = mean_squared_error(y, linear_y)\n",
    "    linear_corre = pd.Series(y).corr(pd.Series(linear_y))\n",
    "\n",
    "    RF_rms = mean_squared_error(y, RF_y)\n",
    "    RF_corre = pd.Series(y).corr(pd.Series(RF_y))\n",
    "\n",
    "    MLPR_rms = mean_squared_error(y, MLPR_y)\n",
    "    MLPR_corre = pd.Series(y).corr(pd.Series(MLPR_y))\n",
    "    \n",
    "    #save metrics to dataframes\n",
    "    corr = [linear_corre, RF_corre, MLPR_corre]\n",
    "    rmse = [linear_rms, RF_rms, MLPR_rms]\n",
    "    \n",
    "    rmse_df['%s'%i] = rmse\n",
    "    corr_df['%s'%i] = corr"
   ]
  },
  {
   "cell_type": "code",
   "execution_count": null,
   "metadata": {},
   "outputs": [],
   "source": [
    "x = np.arange(1,24,1)\n",
    "y1 = rmse_df.loc['Linear']\n",
    "y2 = rmse_df.loc['Rf']\n",
    "y3 = rmse_df.loc['MLPR']\n",
    "\n",
    "plt.plot(x, y1, label = 'Linear')\n",
    "plt.plot(x, y2, label = 'RF')\n",
    "plt.plot(x,y3, label = 'MLPR')\n",
    "plt.xlabel('Train set CHR')\n",
    "plt.ylabel('RMSE')\n",
    "plt.title('Comparision of RMSE Between Models for Train Set')\n",
    "plt.legend()\n",
    "plt.show()"
   ]
  },
  {
   "cell_type": "code",
   "execution_count": null,
   "metadata": {},
   "outputs": [],
   "source": [
    "x = np.arange(1,24,1)\n",
    "y1 = corr_df.loc['Linear']\n",
    "y2 = corr_df.loc['Rf']\n",
    "y3 = corr_df.loc['MLPR']\n",
    "\n",
    "plt.plot(x, y1, label = 'Linear')\n",
    "plt.plot(x, y2, label = 'RF')\n",
    "plt.plot(x,y3, label = 'MLPR')\n",
    "plt.xlabel('Train set CHR')\n",
    "plt.ylabel('CORR')\n",
    "plt.title('Comparision of Correlation Between Models for Train Set')\n",
    "plt.legend()\n",
    "plt.show()"
   ]
  },
  {
   "cell_type": "code",
   "execution_count": null,
   "metadata": {},
   "outputs": [],
   "source": [
    "counts = [1562,1270,1046,723,850,1049,820,640,678,779,779,808,375,478,494,556,685,327,528,463,183,284,343]\n",
    "\n",
    "linear_weighted_rmse = rmse_df.loc['Linear'] * counts\n",
    "linear_weighted_rmse = linear_weighted_rmse.sum()/sum(counts)\n",
    "\n",
    "RF_weighted_rmse = rmse_df.loc['Rf'] * counts\n",
    "RF_weighted_rmse = RF_weighted_rmse.sum()/sum(counts)\n",
    "\n",
    "MLPR_weighted_rmse = rmse_df.loc['MLPR'] * counts\n",
    "MLPR_weighted_rmse = MLPR_weighted_rmse.sum()/sum(counts)\n",
    "\n",
    "\n",
    "linear_weighted_corr = corr_df.loc['Linear'] * counts\n",
    "linear_weighted_corr = linear_weighted_corr.sum()/sum(counts)\n",
    "\n",
    "RF_weighted_corr = corr_df.loc['Rf'] * counts\n",
    "RF_weighted_corr = RF_weighted_corr.sum()/sum(counts)\n",
    "\n",
    "MLPR_weighted_corr = corr_df.loc['MLPR'] * counts\n",
    "MLPR_weighted_corr = MLPR_weighted_corr.sum()/sum(counts)"
   ]
  },
  {
   "cell_type": "code",
   "execution_count": null,
   "metadata": {},
   "outputs": [],
   "source": [
    "label = ['Linear', 'RF', 'MLPR']\n",
    "rmse = [linear_weighted_rmse, RF_weighted_rmse, MLPR_weighted_rmse]\n",
    "\n",
    "plt.barh(label, rmse)\n",
    "plt.title('Comparison of RMSE for Different Models')\n",
    "\n",
    "for index, value in enumerate(rmse):\n",
    "    plt.text(value, index, str(value))"
   ]
  },
  {
   "cell_type": "code",
   "execution_count": null,
   "metadata": {},
   "outputs": [],
   "source": [
    "label = ['Linear', 'RF', 'MLPR']\n",
    "corr = [linear_weighted_corr, RF_weighted_corr, MLPR_weighted_corr]\n",
    "\n",
    "plt.barh(label, corr)\n",
    "plt.title('Comparison of Correlation for Different Models')\n",
    "\n",
    "for index, value in enumerate(corr):\n",
    "    plt.text(value, index, str(value))"
   ]
  }
 ],
 "metadata": {
  "kernelspec": {
   "display_name": "Python [conda env:root] *",
   "language": "python",
   "name": "conda-root-py"
  },
  "language_info": {
   "codemirror_mode": {
    "name": "ipython",
    "version": 3
   },
   "file_extension": ".py",
   "mimetype": "text/x-python",
   "name": "python",
   "nbconvert_exporter": "python",
   "pygments_lexer": "ipython3",
   "version": "3.7.6"
  }
 },
 "nbformat": 4,
 "nbformat_minor": 4
}
