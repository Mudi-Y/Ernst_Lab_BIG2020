{
 "cells": [
  {
   "cell_type": "code",
   "execution_count": null,
   "metadata": {},
   "outputs": [],
   "source": [
    "import matplotlib.pyplot as plt\n",
    "import numpy as np\n",
    "import pandas as pd\n",
    "import sklearn.linear_model\n",
    "import sklearn.ensemble\n",
    "import sklearn.neural_network\n",
    "from sklearn.model_selection import train_test_split\n",
    "from sklearn.linear_model import LinearRegression\n",
    "from sklearn.ensemble import RandomForestRegressor\n",
    "from sklearn.neural_network import MLPRegressor\n",
    "from sklearn.externals import joblib"
   ]
  },
  {
   "cell_type": "code",
   "execution_count": null,
   "metadata": {},
   "outputs": [],
   "source": [
    "chromosomes = list(range(1,23,1)) + ['X']\n",
    "chromosomes = np.array(chromosomes)\n",
    "chromosomes = chromosomes.reshape(23,)\n",
    "\n",
    "#train each regressor on each dataset:\n",
    "for chrom in chromosomes:\n",
    "    #read in train data\n",
    "    X_train = pd.read_pickle('/u/home/m/mudiyang/scratch/Tile_Prediction_Regressors/Data/CV_t15_rotate_chrs/X_train_chr%s.pkl'%chrom)\n",
    "    y_train = pd.read_pickle('/u/home/m/mudiyang/scratch/Tile_Prediction_Regressors/Data/CV_t15_rotate_chrs/y_train_chr%s.pkl'%chrom)\n",
    "    \n",
    "    X_train = X_train.values\n",
    "    y_train = y_train.values.flatten()\n",
    "    \n",
    "    #train each regressor\n",
    "    linear = LinearRegression()\n",
    "    linear.fit(X_train, y_train)\n",
    "    \n",
    "    RF = RandomForestRegressor(bootstrap=True, max_depth=10, max_features=20, n_estimators = 99)\n",
    "    RF.fit(X_train, y_train)\n",
    "\n",
    "    MLPR = MLPRegressor(activation='identity', hidden_layer_sizes = (5))\n",
    "    MLPR.fit(X_train, y_train)\n",
    "    \n",
    "    \n",
    "    #export each regressor\n",
    "    regressor_path = '/u/home/m/mudiyang/scratch/Tile_Prediction_Regressors/Data/CV_t15_rotate_chrs/regressors/%s_%s.pkl'\n",
    "    joblib.dump(linear, regressor_path%('linear',chrom))\n",
    "    joblib.dump(RF, regressor_path%('RF',chrom))\n",
    "    joblib.dump(MLPR, regressor_path%('MLPR',chrom))\n",
    "    \n",
    "    "
   ]
  }
 ],
 "metadata": {
  "kernelspec": {
   "display_name": "Python [conda env:root] *",
   "language": "python",
   "name": "conda-root-py"
  },
  "language_info": {
   "codemirror_mode": {
    "name": "ipython",
    "version": 3
   },
   "file_extension": ".py",
   "mimetype": "text/x-python",
   "name": "python",
   "nbconvert_exporter": "python",
   "pygments_lexer": "ipython3",
   "version": "3.7.6"
  }
 },
 "nbformat": 4,
 "nbformat_minor": 4
}
