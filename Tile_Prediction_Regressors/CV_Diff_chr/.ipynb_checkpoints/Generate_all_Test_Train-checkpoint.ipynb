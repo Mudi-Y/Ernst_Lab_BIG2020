{
 "cells": [
  {
   "cell_type": "code",
   "execution_count": null,
   "metadata": {},
   "outputs": [],
   "source": [
    "import numpy as np\n",
    "import pandas as pd\n",
    "import os"
   ]
  },
  {
   "cell_type": "code",
   "execution_count": null,
   "metadata": {},
   "outputs": [],
   "source": [
    "#set tile to predict\n",
    "tile_to_predict = 't15'"
   ]
  },
  {
   "cell_type": "code",
   "execution_count": null,
   "metadata": {},
   "outputs": [],
   "source": [
    "    \n",
    "def Gen_Test_Train(chrom):\n",
    "    #set tile to be used as test set\n",
    "    os.system(\"grep '_chr%s_' '/u/home/m/mudiyang/scratch/Scaleup_counts_sequences/DNACOUNTS/cords.txt' > '/u/home/m/mudiyang/scratch/Scaleup_counts_sequences/DNACOUNTS/chr%s.txt'\"\n",
    "             %(chrom,chrom))\n",
    "    \n",
    "    \n",
    "    #use cell_prom_rep filed to pick which cell/prom/rep data to process, and later use for the regressor.\n",
    "    #options are: ['Hep_Sv40_1','Hep_Sv40_2','Hep_min_1','Hep_min_2','K_Sv40_1','K_Sv40_2','K_min_1','K_min_2']\n",
    "    Data_path = \"/u/home/m/mudiyang/scratch/MPRAnalyze/\"\n",
    "    rna_path       = \"%s/RNA_df.csv\"%Data_path\n",
    "    dna_path       = \"%s/DNA_df.csv\"%Data_path\n",
    "    cell_prom_rep  =\"Hep_Sv40_1\" \n",
    "\n",
    "    rna = pd.read_csv(rna_path, header = 0, index_col = 0, sep = '\\t')\n",
    "    dna = pd.read_csv(dna_path, header = 0, index_col = 0, sep = '\\t')\n",
    "\n",
    "    missing = pd.read_pickle('/u/home/m/mudiyang/scratch/Scaleup_counts_sequences/DNACOUNTS/missing.pkl')\n",
    "\n",
    "    rna = pd.concat([rna, missing])\n",
    "    dna = pd.concat([dna, missing])\n",
    "\n",
    "    dna_values = np.array(dna['%s'%cell_prom_rep])\n",
    "    rna_values = np.array(rna['%s'%cell_prom_rep])\n",
    "\n",
    "    dna_matrix = dna_values.reshape(15720,31)\n",
    "    rna_matrix = rna_values.reshape(15720,31)\n",
    "\n",
    "\n",
    "    indexes = np.genfromtxt('/u/home/m/mudiyang/scratch/Scaleup_counts_sequences/DNACOUNTS/cords.txt', \n",
    "                            dtype=str, delimiter ='\\n')\n",
    "\n",
    "    tiles = ['t%s']*31\n",
    "    numbers = list(range(1,32,1))\n",
    "\n",
    "    for i in range(0,len(tiles),1):\n",
    "        tiles[i] = tiles[i]%numbers[i]\n",
    "\n",
    "    rna = pd.DataFrame(rna_matrix, columns = tiles, index = indexes)\n",
    "    dna = pd.DataFrame(dna_matrix, columns = tiles, index = indexes)\n",
    "\n",
    "\n",
    "\n",
    "    #normalize data\n",
    "    #add pesudo count to smooth data\n",
    "    rna = rna+1\n",
    "    dna = dna+1\n",
    "\n",
    "\n",
    "    dna_no_nan = dna.fillna(0)\n",
    "    rna_no_nan = rna.fillna(0)\n",
    "\n",
    "\n",
    "    #get sums of DNA and RNA counts\n",
    "    dna_sum = dna_no_nan.values.sum()\n",
    "    rna_sum = rna_no_nan.values.sum()\n",
    "\n",
    "\n",
    "    #generate normalized counts. I am including the strange multiply dna_sum by two step, \n",
    "    #but we can comment that out if we diecide that does not make sense. \n",
    "    rna_counts = rna/rna_sum\n",
    "\n",
    "    dna_sum = dna_sum*2\n",
    "    dna_counts = dna/dna_sum\n",
    "\n",
    "\n",
    "    #generate scores for each tile. These will be used as the labels for the regressor\n",
    "    tile_scores = np.log2(rna_counts/dna_counts)\n",
    "\n",
    "    #remove regions that are in chrom and reserve as test set\n",
    "    remove = index = np.genfromtxt('/u/home/m/mudiyang/scratch/Scaleup_counts_sequences/DNACOUNTS/chr%s.txt'%chrom, \n",
    "                            dtype=str, delimiter ='\\n')\n",
    "    \n",
    "    #drop all NaN values\n",
    "    tile_scores = tile_scores.dropna()\n",
    "\n",
    "    test_set = tile_scores[tile_scores.index.isin(remove)]\n",
    "    train_set = tile_scores[~tile_scores.index.isin(remove)]\n",
    "    del tile_scores\n",
    "\n",
    "    y_train = pd.DataFrame(train_set['%s'%tile_to_predict])\n",
    "    y_test = pd.DataFrame(test_set['%s'%tile_to_predict])\n",
    "\n",
    "    X_train = train_set.drop(columns = ['%s'%tile_to_predict])\n",
    "    X_test = test_set.drop(columns = ['%s'%tile_to_predict])\n",
    "    \n",
    "    X_train.to_pickle('/u/home/m/mudiyang/scratch/Tile_Prediction_Regressors/Data/CV_t15_rotate_chrs/X_train_chr%s.pkl'%chrom)\n",
    "    X_test.to_pickle('/u/home/m/mudiyang/scratch/Tile_Prediction_Regressors/Data/CV_t15_rotate_chrs/X_test_chr%s.pkl'%chrom)\n",
    "    y_train.to_pickle('/u/home/m/mudiyang/scratch/Tile_Prediction_Regressors/Data/CV_t15_rotate_chrs/y_train_chr%s.pkl'%chrom)\n",
    "    y_test.to_pickle('/u/home/m/mudiyang/scratch/Tile_Prediction_Regressors/Data/CV_t15_rotate_chrs/y_test_chr%s.pkl'%chrom)"
   ]
  },
  {
   "cell_type": "code",
   "execution_count": null,
   "metadata": {},
   "outputs": [],
   "source": [
    "for i in range(1,23,1):\n",
    "    Gen_Test_Train(i)"
   ]
  },
  {
   "cell_type": "code",
   "execution_count": null,
   "metadata": {},
   "outputs": [],
   "source": [
    "Gen_Test_Train('X')"
   ]
  }
 ],
 "metadata": {
  "kernelspec": {
   "display_name": "Python [conda env:root] *",
   "language": "python",
   "name": "conda-root-py"
  },
  "language_info": {
   "codemirror_mode": {
    "name": "ipython",
    "version": 3
   },
   "file_extension": ".py",
   "mimetype": "text/x-python",
   "name": "python",
   "nbconvert_exporter": "python",
   "pygments_lexer": "ipython3",
   "version": "3.7.6"
  }
 },
 "nbformat": 4,
 "nbformat_minor": 4
}
