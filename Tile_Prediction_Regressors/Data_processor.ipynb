{
 "cells": [
  {
   "cell_type": "code",
   "execution_count": null,
   "metadata": {},
   "outputs": [],
   "source": [
    "import numpy as np\n",
    "import pandas as pd\n",
    "from sklearn.model_selection import train_test_split"
   ]
  },
  {
   "cell_type": "code",
   "execution_count": null,
   "metadata": {},
   "outputs": [],
   "source": [
    "#use cell_prom_rep filed to pick which cell/prom/rep data to process, and later use for the regressor.\n",
    "#options are: ['Hep_Sv40_1','Hep_Sv40_2','Hep_min_1','Hep_min_2','K_Sv40_1','K_Sv40_2','K_min_1','K_min_2']\n",
    "Data_path = \"/u/home/m/mudiyang/scratch/MPRAnalyze/\"\n",
    "rna_path       = \"%s/RNA_df.csv\"%Data_path\n",
    "dna_path       = \"%s/DNA_df.csv\"%Data_path\n",
    "cell_prom_rep  =\"Hep_Sv40_1\" "
   ]
  },
  {
   "cell_type": "code",
   "execution_count": null,
   "metadata": {},
   "outputs": [],
   "source": [
    "rna = pd.read_csv(rna_path, header = 0, index_col = 0, sep = '\\t')\n",
    "dna = pd.read_csv(dna_path, header = 0, index_col = 0, sep = '\\t')\n",
    "\n",
    "missing = pd.read_pickle('/u/home/m/mudiyang/scratch/Scaleup_counts_sequences/DNACOUNTS/missing.pkl')"
   ]
  },
  {
   "cell_type": "code",
   "execution_count": null,
   "metadata": {},
   "outputs": [],
   "source": [
    "rna = pd.concat([rna, missing])\n",
    "dna = pd.concat([dna, missing])"
   ]
  },
  {
   "cell_type": "code",
   "execution_count": null,
   "metadata": {},
   "outputs": [],
   "source": [
    "dna_values = np.array(dna['%s'%cell_prom_rep])\n",
    "rna_values = np.array(rna['%s'%cell_prom_rep])\n",
    "\n",
    "dna_matrix = dna_values.reshape(15720,31)\n",
    "rna_matrix = rna_values.reshape(15720,31)"
   ]
  },
  {
   "cell_type": "code",
   "execution_count": null,
   "metadata": {},
   "outputs": [],
   "source": [
    "indexes = np.genfromtxt('/u/home/m/mudiyang/scratch/Scaleup_counts_sequences/DNACOUNTS/cords.txt', \n",
    "                        dtype=str, delimiter ='\\n')\n",
    "\n",
    "tiles = ['t%s']*31\n",
    "numbers = list(range(1,32,1))\n",
    "\n",
    "for i in range(0,len(tiles),1):\n",
    "    tiles[i] = tiles[i]%numbers[i]\n",
    "\n",
    "rna = pd.DataFrame(rna_matrix, columns = tiles, index = indexes)\n",
    "dna = pd.DataFrame(dna_matrix, columns = tiles, index = indexes)"
   ]
  },
  {
   "cell_type": "code",
   "execution_count": null,
   "metadata": {},
   "outputs": [],
   "source": [
    "# rna.to_pickle('/u/home/m/mudiyang/scratch/Scaleup_counts_sequences/rna_matrix.pkl')\n",
    "# dna.to_pickle('/u/home/m/mudiyang/scratch/Scaleup_counts_sequences/dna_matrix.pkl')"
   ]
  },
  {
   "cell_type": "code",
   "execution_count": null,
   "metadata": {},
   "outputs": [],
   "source": [
    "# rna = pd.read_pickle('/u/home/m/mudiyang/scratch/Scaleup_counts_sequences/rna_matrix.pkl')\n",
    "# dna = pd.read_pickle('/u/home/m/mudiyang/scratch/Scaleup_counts_sequences/dna_matrix.pkl')"
   ]
  },
  {
   "cell_type": "code",
   "execution_count": null,
   "metadata": {},
   "outputs": [],
   "source": [
    "#normalize data\n",
    "#add pesudo count to smooth data\n",
    "rna = rna+1\n",
    "dna = dna+1\n",
    "\n",
    "\n",
    "dna_no_nan = dna.fillna(0)\n",
    "rna_no_nan = rna.fillna(0)\n",
    "\n",
    "\n",
    "#get sums of DNA and RNA counts\n",
    "dna_sum = dna_no_nan.values.sum()\n",
    "rna_sum = rna_no_nan.values.sum()\n",
    "\n",
    "\n",
    "#generate normalized counts. I am including the strange multiply dna_sum by two step, \n",
    "#but we can comment that out if we diecide that does not make sense. \n",
    "rna_counts = rna/rna_sum\n",
    "\n",
    "dna_sum = dna_sum*2\n",
    "dna_counts = dna/dna_sum"
   ]
  },
  {
   "cell_type": "code",
   "execution_count": null,
   "metadata": {},
   "outputs": [],
   "source": [
    "#generate scores for each tile. These will be used as the labels for the regressor\n",
    "tile_scores = np.log2(rna_counts/dna_counts)\n"
   ]
  },
  {
   "cell_type": "code",
   "execution_count": null,
   "metadata": {},
   "outputs": [],
   "source": [
    "# tile_scores.to_pickle('/u/home/m/mudiyang/scratch/Scaleup_counts_sequences/tile_scores.pkl')"
   ]
  },
  {
   "cell_type": "code",
   "execution_count": null,
   "metadata": {},
   "outputs": [],
   "source": [
    "# #drop all the rows that have Nan\n",
    "# # tile_scores = tile_scores.dropna()\n",
    "\n",
    "# #split data into input and labels\n",
    "# labels = pd.DataFrame(tile_scores['t15'])\n",
    "\n",
    "# input_data = tile_scores.drop(columns = ['t15'])\n",
    "\n",
    "# #split into train and test data\n",
    "# X_train, X_test, y_train, y_test = train_test_split(\n",
    "#     input_data, labels, test_size=0.25, random_state=42)\n",
    "\n",
    "\n",
    "# #remove unused identifiers\n",
    "# del tile_scores, labels, input_data"
   ]
  },
  {
   "cell_type": "code",
   "execution_count": null,
   "metadata": {},
   "outputs": [],
   "source": [
    "#remove regions that are in chromosome 21 and reserve as test set\n",
    "chr_8 = np.genfromtxt('/u/home/m/mudiyang/scratch/Scaleup_counts_sequences/DNACOUNTS/chr8.txt', \n",
    "                        dtype=str, delimiter ='\\n')\n",
    "chr_18 = np.genfromtxt('/u/home/m/mudiyang/scratch/Scaleup_counts_sequences/DNACOUNTS/chr18.txt', \n",
    "                        dtype=str, delimiter ='\\n')\n",
    "drop_set = np.concatenate((chr_8, chr_18), axis=None)\n",
    "\n",
    "\n",
    "test_set = tile_scores[tile_scores.index.isin(drop_set)]\n",
    "train_set = tile_scores[~tile_scores.index.isin(drop_set)]\n",
    "\n",
    "test_set = test_set.dropna()\n",
    "train_set = train_set.dropna()\n",
    "\n"
   ]
  },
  {
   "cell_type": "code",
   "execution_count": null,
   "metadata": {},
   "outputs": [],
   "source": [
    "tile_scores.to_pickle('/u/home/m/mudiyang/scratch/Tile_Prediction_Regressors/Data/all_data.pkl')\n",
    "test_set.to_pickle('/u/home/m/mudiyang/scratch/Tile_Prediction_Regressors/Data/train.pkl')\n",
    "train_set.to_pickle('/u/home/m/mudiyang/scratch/Tile_Prediction_Regressors/Data/test.pkl')"
   ]
  },
  {
   "cell_type": "code",
   "execution_count": null,
   "metadata": {},
   "outputs": [],
   "source": [
    "tile_scores"
   ]
  }
 ],
 "metadata": {
  "kernelspec": {
   "display_name": "Python [conda env:root] *",
   "language": "python",
   "name": "conda-root-py"
  },
  "language_info": {
   "codemirror_mode": {
    "name": "ipython",
    "version": 3
   },
   "file_extension": ".py",
   "mimetype": "text/x-python",
   "name": "python",
   "nbconvert_exporter": "python",
   "pygments_lexer": "ipython3",
   "version": "3.7.6"
  }
 },
 "nbformat": 4,
 "nbformat_minor": 4
}
