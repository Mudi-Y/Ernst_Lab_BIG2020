{
 "cells": [
  {
   "cell_type": "code",
   "execution_count": null,
   "metadata": {},
   "outputs": [],
   "source": [
    "import numpy as np\n",
    "import pandas as pd\n",
    "import pybedtools as pbt\n",
    "import matplotlib.pyplot as plt"
   ]
  },
  {
   "cell_type": "code",
   "execution_count": null,
   "metadata": {},
   "outputs": [],
   "source": [
    "filepath = \"/u/home/m/mudiyang/scratch/DNase\" \n",
    "cell = \"Huvec\"\n",
    "\n",
    "cell_df = pd.read_csv(\"%s/coords/%s_coords.bed\"%(filepath,cell), header = None, index_col = None, sep = '\\t')\n",
    "cell_df = cell_df.drop(columns=[3])\n",
    "rows = len(cell_df)"
   ]
  },
  {
   "cell_type": "code",
   "execution_count": null,
   "metadata": {},
   "outputs": [],
   "source": [
    "#function for filling in row of marix according to dataframe\n",
    "def process_row(row, dataframe):\n",
    "    for i in range(0,len(dataframe),1):\n",
    "        mat_start = dataframe[1][i]\n",
    "        mat_stop = dataframe[2][i]+1\n",
    "        matrix[row][mat_start:mat_stop] = 1\n",
    "    return"
   ]
  },
  {
   "cell_type": "code",
   "execution_count": null,
   "metadata": {},
   "outputs": [],
   "source": [
    "#fill in a n by 259 matrix with intersection information\n",
    "matrix = np.zeros((rows,295))\n",
    "\n",
    "#1 intersect one row from the cell dataframe with the DNase coordinates\n",
    "#convert the intersection result into dataframe and subtract the starting coordinate of the SHARPR region\n",
    "#from each start stop position\n",
    "#fill in corresponding row of matrix\n",
    "#repeat for all rows of cell dataframe\n",
    "\n",
    "#read in DNase file and convert to bedtools object\n",
    "#cell='Hepg2' #comment this out to replicate Megan's plots\n",
    "DNase = pd.read_csv(\"%s/narrow_peaks/wgEncodeUwDnase%sPkRep1.narrowPeak\"%(filepath, cell),\n",
    "                    header = None, index_col = None, sep = '\\t')\n",
    "DNase = pbt.BedTool.from_dataframe(DNase)\n",
    "\n",
    "for i in range(0,len(cell_df),1):\n",
    "    if i%100 ==0:\n",
    "        print(i)\n",
    "    #extract ith line, turn it into a bedtools object. In the meantime, get the start position of the region\n",
    "    current = cell_df.iloc[[i]]\n",
    "    start = current[1]\n",
    "    start = int(start)\n",
    "    current = pbt.BedTool.from_dataframe(current)\n",
    "    \n",
    "    #intersect current and DNase and save as a dataframe\n",
    "    intersect = current.intersect(DNase)\n",
    "    if len(intersect) == 0:\n",
    "        continue\n",
    "    intersect_df = intersect.to_dataframe(disable_auto_names=True, header=None, index_col=None)\n",
    "    \n",
    "    intersect_df[1] = intersect_df[1] - start\n",
    "    intersect_df[2] = intersect_df[2] - start\n",
    "    \n",
    "    #pass intersection dataframe to process_row function\n",
    "    process_row(i,intersect_df)"
   ]
  },
  {
   "cell_type": "code",
   "execution_count": null,
   "metadata": {},
   "outputs": [],
   "source": [
    "#format data for easy plotting\n",
    "matrix = pd.DataFrame(matrix)\n",
    "averages = matrix.sum(axis = 0)/len(cell_df)\n",
    "averages = np.asarray(averages)\n",
    "\n",
    "#pickle matrix for future use\n",
    "matrix.to_pickle(\"%s/Processed/%s_matrix.pkl\"%(filepath,cell))\n",
    "\n",
    "\n",
    "#load in already processed data: only run first cell and code in all cells after this line\n",
    "# cell_df = pd.read_csv(\"%s/coords/%s_coords.bed\"%(filepath,cell), header = None, index_col = None, sep = '\\t')\n",
    "# matrix = pd.read_pickle(\"%s/Processed/%s_matrix.pkl\"%(filepath,cell))\n",
    "# averages = matrix.sum(axis = 0)/len(cell_df)\n",
    "# averages = np.asarray(averages)"
   ]
  },
  {
   "cell_type": "code",
   "execution_count": null,
   "metadata": {},
   "outputs": [],
   "source": [
    "plt1 = plt.imshow(matrix)\n",
    "plt.title(\"Regions overlapping DNase in %s\"%cell)\n",
    "plt.xlabel(\"Base\")\n",
    "plt.ylabel(\"Region\")\n",
    "plt.show()"
   ]
  },
  {
   "cell_type": "code",
   "execution_count": null,
   "metadata": {},
   "outputs": [],
   "source": [
    "plt2 = plt.scatter(\n",
    "    x = np.arange(1,296,1),\n",
    "    y = averages,\n",
    "    )\n",
    "plt.title(\"Percent overlap of Region and DNase in %s by base\"%cell)\n",
    "plt.xlabel(\"Base\")\n",
    "plt.ylabel(\"Percent overlap\")\n"
   ]
  }
 ],
 "metadata": {
  "kernelspec": {
   "display_name": "Python [conda env:root] *",
   "language": "python",
   "name": "conda-root-py"
  },
  "language_info": {
   "codemirror_mode": {
    "name": "ipython",
    "version": 3
   },
   "file_extension": ".py",
   "mimetype": "text/x-python",
   "name": "python",
   "nbconvert_exporter": "python",
   "pygments_lexer": "ipython3",
   "version": "3.7.6"
  }
 },
 "nbformat": 4,
 "nbformat_minor": 4
}
