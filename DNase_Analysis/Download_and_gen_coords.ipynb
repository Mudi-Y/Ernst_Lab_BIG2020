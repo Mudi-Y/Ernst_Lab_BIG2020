{
 "cells": [
  {
   "cell_type": "code",
   "execution_count": null,
   "metadata": {},
   "outputs": [],
   "source": [
    "import os\n",
    "import numpy as np\n",
    "import pandas as pd"
   ]
  },
  {
   "cell_type": "code",
   "execution_count": null,
   "metadata": {},
   "outputs": [],
   "source": [
    "file_path = \"/u/home/m/mudiyang/scratch/DNase\"\n",
    "cell_lines = ['Hepg2', 'Huvec', 'K562', 'H1hesc']"
   ]
  },
  {
   "cell_type": "code",
   "execution_count": null,
   "metadata": {},
   "outputs": [],
   "source": [
    "for i in cell_lines:\n",
    "    download_string = \"wget https://hgdownload.cse.ucsc.edu/goldenPath/hg19/encodeDCC/wgEncodeUwDnase/wgEncodeUwDnase%sPkRep1.narrowPeak.gz -P %s/\"%(\n",
    "        i,file_path)\n",
    "    os.system(download_string)\n",
    "    os.system(\"gunzip *.gz\")"
   ]
  },
  {
   "cell_type": "code",
   "execution_count": null,
   "metadata": {},
   "outputs": [],
   "source": [
    "for i in cell_lines:\n",
    "    grep_string = \"grep \\\"%s\\\" /%s/coords.txt > /%s/coords/%s_coords.bed\"%(i,file_path,file_path,i)\n",
    "    os.system(grep_string)"
   ]
  }
 ],
 "metadata": {
  "kernelspec": {
   "display_name": "Python [conda env:root] *",
   "language": "python",
   "name": "conda-root-py"
  },
  "language_info": {
   "codemirror_mode": {
    "name": "ipython",
    "version": 3
   },
   "file_extension": ".py",
   "mimetype": "text/x-python",
   "name": "python",
   "nbconvert_exporter": "python",
   "pygments_lexer": "ipython3",
   "version": "3.7.6"
  }
 },
 "nbformat": 4,
 "nbformat_minor": 4
}
