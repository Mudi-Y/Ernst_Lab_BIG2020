{
 "cells": [
  {
   "cell_type": "code",
   "execution_count": null,
   "metadata": {},
   "outputs": [],
   "source": [
    "import numpy as np\n",
    "import pandas as pd"
   ]
  },
  {
   "cell_type": "code",
   "execution_count": null,
   "metadata": {},
   "outputs": [],
   "source": [
    "file_path = \"/u/home/m/mudiyang/scratch/DNase\"\n",
    "cell_line ='H1hesc'"
   ]
  },
  {
   "cell_type": "code",
   "execution_count": null,
   "metadata": {},
   "outputs": [],
   "source": [
    "#read in coordinates for HepG2\n",
    "Cell = pd.read_csv(\"%s/%s_coords.bed\"%(file_path, cell_line), header = None, index_col=None, sep = '\\t')\n"
   ]
  },
  {
   "cell_type": "code",
   "execution_count": null,
   "metadata": {},
   "outputs": [],
   "source": [
    "#calculate midpoint of Cell, and create a new .bed file with the midpoint\n",
    "\n",
    "Cell['mid_start'] = (Cell[1] + Cell[2])/2 -1\n",
    "Cell['mid_stop'] = (Cell[1] + Cell[2])/2 +1\n",
    "\n",
    "Cell['mid_start'] = Cell['mid_start'].apply(np.floor).apply(int)\n",
    "Cell['mid_stop'] = Cell['mid_stop'].apply(np.floor).apply(int)"
   ]
  },
  {
   "cell_type": "code",
   "execution_count": null,
   "metadata": {},
   "outputs": [],
   "source": [
    "Cell.to_csv('%s/midpoints/%s_midpoints.bed'%(file_path, cell_line), columns = [0, 'mid_start', 'mid_stop'], header = None, index = None, \n",
    "            sep = '\\t')"
   ]
  }
 ],
 "metadata": {
  "kernelspec": {
   "display_name": "Python [conda env:root] *",
   "language": "python",
   "name": "conda-root-py"
  },
  "language_info": {
   "codemirror_mode": {
    "name": "ipython",
    "version": 3
   },
   "file_extension": ".py",
   "mimetype": "text/x-python",
   "name": "python",
   "nbconvert_exporter": "python",
   "pygments_lexer": "ipython3",
   "version": "3.7.6"
  }
 },
 "nbformat": 4,
 "nbformat_minor": 4
}
